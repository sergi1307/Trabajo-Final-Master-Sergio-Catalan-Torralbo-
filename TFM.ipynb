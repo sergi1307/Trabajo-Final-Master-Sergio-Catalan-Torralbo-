{
  "nbformat": 4,
  "nbformat_minor": 0,
  "metadata": {
    "colab": {
      "provenance": [],
      "collapsed_sections": [
        "gJqoMsCP3EkR",
        "TN6dfu_i3Lvi",
        "tYMekiyY3ap6",
        "RoTp4fLiu6R7",
        "g59A-7o2DCIi",
        "RQ1g2OIAc6fh",
        "dGw1ksjK7J5P",
        "_G52P81q2x7X",
        "9LGQezMi7f_Y",
        "J9zkrpzHHaBN",
        "uq5g5RVC4uNF",
        "cgIGpGleMifH"
      ]
    },
    "kernelspec": {
      "name": "python3",
      "display_name": "Python 3"
    },
    "language_info": {
      "name": "python"
    }
  },
  "cells": [
    {
      "cell_type": "markdown",
      "source": [
        "# TFM\n",
        "\n",
        "**Objetivos:** \n",
        "\n",
        "**Fecha:** \n",
        "\n",
        "**Nombre:** Sergio Catalán Torralbo"
      ],
      "metadata": {
        "id": "B_xBa1aPG5Yt"
      }
    },
    {
      "cell_type": "markdown",
      "source": [
        "## Importamos librerias y los datos"
      ],
      "metadata": {
        "id": "0oCtZOJc25cK"
      }
    },
    {
      "cell_type": "code",
      "source": [
        "import pandas as pd\n",
        "import matplotlib.pyplot as plt\n",
        "import numpy as np\n",
        "import seaborn as sns\n",
        "from google.colab import files  "
      ],
      "metadata": {
        "id": "JWkmDkzKG88U"
      },
      "execution_count": 1,
      "outputs": []
    },
    {
      "cell_type": "code",
      "source": [
        "data = pd.read_csv('data_raw.csv')"
      ],
      "metadata": {
        "id": "KLF6xhTnHAu1"
      },
      "execution_count": 2,
      "outputs": []
    },
    {
      "cell_type": "code",
      "source": [
        "!python --version"
      ],
      "metadata": {
        "colab": {
          "base_uri": "https://localhost:8080/"
        },
        "id": "pfju-V4pqVQ3",
        "outputId": "ff1890a3-4e48-443d-feca-3988b81c2a97"
      },
      "execution_count": null,
      "outputs": [
        {
          "output_type": "stream",
          "name": "stdout",
          "text": [
            "Python 3.7.14\n"
          ]
        }
      ]
    },
    {
      "cell_type": "code",
      "source": [
        "data.shape"
      ],
      "metadata": {
        "colab": {
          "base_uri": "https://localhost:8080/"
        },
        "id": "kN4zdcsJLsQS",
        "outputId": "b62b69ff-8248-46dd-deaf-734e0b466401"
      },
      "execution_count": 3,
      "outputs": [
        {
          "output_type": "execute_result",
          "data": {
            "text/plain": [
              "(3083, 354)"
            ]
          },
          "metadata": {},
          "execution_count": 3
        }
      ]
    },
    {
      "cell_type": "markdown",
      "source": [
        "## Preproceso"
      ],
      "metadata": {
        "id": "gJqoMsCP3EkR"
      }
    },
    {
      "cell_type": "markdown",
      "source": [
        "### Información general del Dataset"
      ],
      "metadata": {
        "id": "1cMBoFQDL7tX"
      }
    },
    {
      "cell_type": "code",
      "source": [
        "data.columns"
      ],
      "metadata": {
        "colab": {
          "base_uri": "https://localhost:8080/"
        },
        "id": "YKaRQkWoMw3w",
        "outputId": "9efdc35e-0dee-453b-e76c-2f5203ecc63d"
      },
      "execution_count": 4,
      "outputs": [
        {
          "output_type": "execute_result",
          "data": {
            "text/plain": [
              "Index(['Unnamed: 0', 'ESTUDIO', 'ENTREV', 'CUES', 'TIPO_TEL', 'CCAA', 'PROV',\n",
              "       'MUN', 'TAMUNI', 'CAPITAL',\n",
              "       ...\n",
              "       'IA_C2B_24', 'IA_C2B_25', 'IA_C3', 'IA_C4', 'RECUVOTOGR', 'RECUERDO',\n",
              "       'CNO11R', 'ESTUDIOS', 'RELIGIONR', 'CLASESUB'],\n",
              "      dtype='object', length=354)"
            ]
          },
          "metadata": {},
          "execution_count": 4
        }
      ]
    },
    {
      "cell_type": "code",
      "source": [
        "data.shape"
      ],
      "metadata": {
        "colab": {
          "base_uri": "https://localhost:8080/"
        },
        "id": "d82tjvtfwEhn",
        "outputId": "1ea618dd-da4e-40e3-e0aa-4f3f8bfa6d19"
      },
      "execution_count": 5,
      "outputs": [
        {
          "output_type": "execute_result",
          "data": {
            "text/plain": [
              "(3083, 354)"
            ]
          },
          "metadata": {},
          "execution_count": 5
        }
      ]
    },
    {
      "cell_type": "code",
      "source": [
        "data.info()"
      ],
      "metadata": {
        "colab": {
          "base_uri": "https://localhost:8080/"
        },
        "id": "e0hm9dPxL0J3",
        "outputId": "67062c57-3b5e-4fdc-fe2a-1b6fc3860caa"
      },
      "execution_count": 6,
      "outputs": [
        {
          "output_type": "stream",
          "name": "stdout",
          "text": [
            "<class 'pandas.core.frame.DataFrame'>\n",
            "RangeIndex: 3083 entries, 0 to 3082\n",
            "Columns: 354 entries, Unnamed: 0 to CLASESUB\n",
            "dtypes: float64(208), int64(146)\n",
            "memory usage: 8.3 MB\n"
          ]
        }
      ]
    },
    {
      "cell_type": "markdown",
      "source": [
        "### Elección de variables de interes"
      ],
      "metadata": {
        "id": "TN6dfu_i3Lvi"
      }
    },
    {
      "cell_type": "markdown",
      "source": [
        "Ahora seleccionaremos aquellas columnas que nos interesan de manera subjetiva, ya que consideramos que nos serán mas útiles para nuestros objetivos.\n",
        "\n"
      ],
      "metadata": {
        "id": "bwebSplr6Ot7"
      }
    },
    {
      "cell_type": "code",
      "source": [
        "COL_UTIL = []\n",
        "Preguntas_a_Usar = ['SEXO', 'EDAD', 'P2', 'P3', 'P4', 'P4B', 'P10', 'P16A', 'P16B', 'P17A_', 'P18','P18A', 'P26', \n",
        "                    'P26A', 'P27', 'P27A', 'P28', 'P29', 'P30', 'P30C_1','P30C_2','P30C_3', 'SITLAB', 'CNO11R', 'SITCONVIVEN', 'ESCUELA', 'ESTUDIOS', \n",
        "                    'RELIGIONR', 'CLASESUB']\n",
        "for col in data.columns:\n",
        "  if col in Preguntas_a_Usar or (col[0:len(col)-2]+'_') in Preguntas_a_Usar or (col[0:len(col)-3]+'_') in Preguntas_a_Usar:\n",
        "    COL_UTIL.append(col)\n",
        "data_util = data[COL_UTIL]\n"
      ],
      "metadata": {
        "id": "Mp85e9aw6I_p"
      },
      "execution_count": 7,
      "outputs": []
    },
    {
      "cell_type": "code",
      "source": [
        "data_util['ESTUDIOS'].value_counts()"
      ],
      "metadata": {
        "colab": {
          "base_uri": "https://localhost:8080/"
        },
        "id": "NeXz0Az86t5J",
        "outputId": "7c991cf6-62d2-4f67-df5b-0c957e7315e8"
      },
      "execution_count": 8,
      "outputs": [
        {
          "output_type": "execute_result",
          "data": {
            "text/plain": [
              "6    1215\n",
              "5     595\n",
              "3     519\n",
              "4     390\n",
              "2     253\n",
              "1      84\n",
              "9      19\n",
              "7       8\n",
              "Name: ESTUDIOS, dtype: int64"
            ]
          },
          "metadata": {},
          "execution_count": 8
        }
      ]
    },
    {
      "cell_type": "markdown",
      "source": [
        "Comprobamos con que columnas nos hemos quedado finalmente"
      ],
      "metadata": {
        "id": "Kgzuq3rNV1gd"
      }
    },
    {
      "cell_type": "code",
      "source": [
        "cols = data_util.columns # first 30 columns\n",
        "cols"
      ],
      "metadata": {
        "colab": {
          "base_uri": "https://localhost:8080/"
        },
        "id": "eyEH04VYVr8e",
        "outputId": "7b2c42b7-a65c-45cc-9832-988dc651ae96"
      },
      "execution_count": 9,
      "outputs": [
        {
          "output_type": "execute_result",
          "data": {
            "text/plain": [
              "Index(['SEXO', 'EDAD', 'P2', 'P3', 'P4', 'P4B', 'P10', 'P16A', 'P16B',\n",
              "       'P17A_1', 'P17A_2', 'P17A_3', 'P17A_4', 'P17A_5', 'P17A_6', 'P17A_7',\n",
              "       'P17A_8', 'P17A_9', 'P17A_10', 'P17A_11', 'P17A_12', 'P17A_13',\n",
              "       'P17A_14', 'P17A_15', 'P17A_16', 'P17A_17', 'P17A_18', 'P17A_19',\n",
              "       'P17A_96', 'P17A_99', 'P18', 'P18A', 'P26', 'P26A', 'P27', 'P27A',\n",
              "       'P28', 'P29', 'P30', 'P30C_1', 'P30C_2', 'P30C_3', 'SITLAB',\n",
              "       'SITCONVIVEN', 'ESCUELA', 'CNO11R', 'ESTUDIOS', 'RELIGIONR',\n",
              "       'CLASESUB'],\n",
              "      dtype='object')"
            ]
          },
          "metadata": {},
          "execution_count": 9
        }
      ]
    },
    {
      "cell_type": "code",
      "source": [
        "data_util.head()"
      ],
      "metadata": {
        "colab": {
          "base_uri": "https://localhost:8080/",
          "height": 0
        },
        "id": "DdWFVpgKXEi-",
        "outputId": "1d10d73b-4865-4352-86a2-37fbce7d0d71"
      },
      "execution_count": 10,
      "outputs": [
        {
          "output_type": "execute_result",
          "data": {
            "text/plain": [
              "   SEXO  EDAD  P2  P3  P4  P4B  P10  P16A  P16B  P17A_1  ...  P30C_1  P30C_2  \\\n",
              "0     1    55   2   2 NaN  NaN    2     1     1     2.0  ...     NaN     NaN   \n",
              "1     2    35   2   2 NaN  2.0    1     9     1     NaN  ...     NaN     NaN   \n",
              "2     2    59   2   2 NaN  NaN    2     1     2     1.0  ...     NaN     NaN   \n",
              "3     1    34   2   2 NaN  2.0    1     2     2     NaN  ...     NaN     NaN   \n",
              "4     1    34   2   2 NaN  NaN    2     2     2     NaN  ...     1.0     NaN   \n",
              "\n",
              "   P30C_3  SITLAB  SITCONVIVEN  ESCUELA  CNO11R  ESTUDIOS  RELIGIONR  CLASESUB  \n",
              "0     NaN       1            3        3       1         3          2         2  \n",
              "1     NaN       1            5        3       3         6          4         1  \n",
              "2     NaN       7            4        3      14         6          4         6  \n",
              "3     NaN       1            3        3       9         1          9         4  \n",
              "4     NaN       1            3        3       2         5          4         2  \n",
              "\n",
              "[5 rows x 49 columns]"
            ],
            "text/html": [
              "\n",
              "  <div id=\"df-cd245803-253f-49aa-95cd-3979f09ee068\">\n",
              "    <div class=\"colab-df-container\">\n",
              "      <div>\n",
              "<style scoped>\n",
              "    .dataframe tbody tr th:only-of-type {\n",
              "        vertical-align: middle;\n",
              "    }\n",
              "\n",
              "    .dataframe tbody tr th {\n",
              "        vertical-align: top;\n",
              "    }\n",
              "\n",
              "    .dataframe thead th {\n",
              "        text-align: right;\n",
              "    }\n",
              "</style>\n",
              "<table border=\"1\" class=\"dataframe\">\n",
              "  <thead>\n",
              "    <tr style=\"text-align: right;\">\n",
              "      <th></th>\n",
              "      <th>SEXO</th>\n",
              "      <th>EDAD</th>\n",
              "      <th>P2</th>\n",
              "      <th>P3</th>\n",
              "      <th>P4</th>\n",
              "      <th>P4B</th>\n",
              "      <th>P10</th>\n",
              "      <th>P16A</th>\n",
              "      <th>P16B</th>\n",
              "      <th>P17A_1</th>\n",
              "      <th>...</th>\n",
              "      <th>P30C_1</th>\n",
              "      <th>P30C_2</th>\n",
              "      <th>P30C_3</th>\n",
              "      <th>SITLAB</th>\n",
              "      <th>SITCONVIVEN</th>\n",
              "      <th>ESCUELA</th>\n",
              "      <th>CNO11R</th>\n",
              "      <th>ESTUDIOS</th>\n",
              "      <th>RELIGIONR</th>\n",
              "      <th>CLASESUB</th>\n",
              "    </tr>\n",
              "  </thead>\n",
              "  <tbody>\n",
              "    <tr>\n",
              "      <th>0</th>\n",
              "      <td>1</td>\n",
              "      <td>55</td>\n",
              "      <td>2</td>\n",
              "      <td>2</td>\n",
              "      <td>NaN</td>\n",
              "      <td>NaN</td>\n",
              "      <td>2</td>\n",
              "      <td>1</td>\n",
              "      <td>1</td>\n",
              "      <td>2.0</td>\n",
              "      <td>...</td>\n",
              "      <td>NaN</td>\n",
              "      <td>NaN</td>\n",
              "      <td>NaN</td>\n",
              "      <td>1</td>\n",
              "      <td>3</td>\n",
              "      <td>3</td>\n",
              "      <td>1</td>\n",
              "      <td>3</td>\n",
              "      <td>2</td>\n",
              "      <td>2</td>\n",
              "    </tr>\n",
              "    <tr>\n",
              "      <th>1</th>\n",
              "      <td>2</td>\n",
              "      <td>35</td>\n",
              "      <td>2</td>\n",
              "      <td>2</td>\n",
              "      <td>NaN</td>\n",
              "      <td>2.0</td>\n",
              "      <td>1</td>\n",
              "      <td>9</td>\n",
              "      <td>1</td>\n",
              "      <td>NaN</td>\n",
              "      <td>...</td>\n",
              "      <td>NaN</td>\n",
              "      <td>NaN</td>\n",
              "      <td>NaN</td>\n",
              "      <td>1</td>\n",
              "      <td>5</td>\n",
              "      <td>3</td>\n",
              "      <td>3</td>\n",
              "      <td>6</td>\n",
              "      <td>4</td>\n",
              "      <td>1</td>\n",
              "    </tr>\n",
              "    <tr>\n",
              "      <th>2</th>\n",
              "      <td>2</td>\n",
              "      <td>59</td>\n",
              "      <td>2</td>\n",
              "      <td>2</td>\n",
              "      <td>NaN</td>\n",
              "      <td>NaN</td>\n",
              "      <td>2</td>\n",
              "      <td>1</td>\n",
              "      <td>2</td>\n",
              "      <td>1.0</td>\n",
              "      <td>...</td>\n",
              "      <td>NaN</td>\n",
              "      <td>NaN</td>\n",
              "      <td>NaN</td>\n",
              "      <td>7</td>\n",
              "      <td>4</td>\n",
              "      <td>3</td>\n",
              "      <td>14</td>\n",
              "      <td>6</td>\n",
              "      <td>4</td>\n",
              "      <td>6</td>\n",
              "    </tr>\n",
              "    <tr>\n",
              "      <th>3</th>\n",
              "      <td>1</td>\n",
              "      <td>34</td>\n",
              "      <td>2</td>\n",
              "      <td>2</td>\n",
              "      <td>NaN</td>\n",
              "      <td>2.0</td>\n",
              "      <td>1</td>\n",
              "      <td>2</td>\n",
              "      <td>2</td>\n",
              "      <td>NaN</td>\n",
              "      <td>...</td>\n",
              "      <td>NaN</td>\n",
              "      <td>NaN</td>\n",
              "      <td>NaN</td>\n",
              "      <td>1</td>\n",
              "      <td>3</td>\n",
              "      <td>3</td>\n",
              "      <td>9</td>\n",
              "      <td>1</td>\n",
              "      <td>9</td>\n",
              "      <td>4</td>\n",
              "    </tr>\n",
              "    <tr>\n",
              "      <th>4</th>\n",
              "      <td>1</td>\n",
              "      <td>34</td>\n",
              "      <td>2</td>\n",
              "      <td>2</td>\n",
              "      <td>NaN</td>\n",
              "      <td>NaN</td>\n",
              "      <td>2</td>\n",
              "      <td>2</td>\n",
              "      <td>2</td>\n",
              "      <td>NaN</td>\n",
              "      <td>...</td>\n",
              "      <td>1.0</td>\n",
              "      <td>NaN</td>\n",
              "      <td>NaN</td>\n",
              "      <td>1</td>\n",
              "      <td>3</td>\n",
              "      <td>3</td>\n",
              "      <td>2</td>\n",
              "      <td>5</td>\n",
              "      <td>4</td>\n",
              "      <td>2</td>\n",
              "    </tr>\n",
              "  </tbody>\n",
              "</table>\n",
              "<p>5 rows × 49 columns</p>\n",
              "</div>\n",
              "      <button class=\"colab-df-convert\" onclick=\"convertToInteractive('df-cd245803-253f-49aa-95cd-3979f09ee068')\"\n",
              "              title=\"Convert this dataframe to an interactive table.\"\n",
              "              style=\"display:none;\">\n",
              "        \n",
              "  <svg xmlns=\"http://www.w3.org/2000/svg\" height=\"24px\"viewBox=\"0 0 24 24\"\n",
              "       width=\"24px\">\n",
              "    <path d=\"M0 0h24v24H0V0z\" fill=\"none\"/>\n",
              "    <path d=\"M18.56 5.44l.94 2.06.94-2.06 2.06-.94-2.06-.94-.94-2.06-.94 2.06-2.06.94zm-11 1L8.5 8.5l.94-2.06 2.06-.94-2.06-.94L8.5 2.5l-.94 2.06-2.06.94zm10 10l.94 2.06.94-2.06 2.06-.94-2.06-.94-.94-2.06-.94 2.06-2.06.94z\"/><path d=\"M17.41 7.96l-1.37-1.37c-.4-.4-.92-.59-1.43-.59-.52 0-1.04.2-1.43.59L10.3 9.45l-7.72 7.72c-.78.78-.78 2.05 0 2.83L4 21.41c.39.39.9.59 1.41.59.51 0 1.02-.2 1.41-.59l7.78-7.78 2.81-2.81c.8-.78.8-2.07 0-2.86zM5.41 20L4 18.59l7.72-7.72 1.47 1.35L5.41 20z\"/>\n",
              "  </svg>\n",
              "      </button>\n",
              "      \n",
              "  <style>\n",
              "    .colab-df-container {\n",
              "      display:flex;\n",
              "      flex-wrap:wrap;\n",
              "      gap: 12px;\n",
              "    }\n",
              "\n",
              "    .colab-df-convert {\n",
              "      background-color: #E8F0FE;\n",
              "      border: none;\n",
              "      border-radius: 50%;\n",
              "      cursor: pointer;\n",
              "      display: none;\n",
              "      fill: #1967D2;\n",
              "      height: 32px;\n",
              "      padding: 0 0 0 0;\n",
              "      width: 32px;\n",
              "    }\n",
              "\n",
              "    .colab-df-convert:hover {\n",
              "      background-color: #E2EBFA;\n",
              "      box-shadow: 0px 1px 2px rgba(60, 64, 67, 0.3), 0px 1px 3px 1px rgba(60, 64, 67, 0.15);\n",
              "      fill: #174EA6;\n",
              "    }\n",
              "\n",
              "    [theme=dark] .colab-df-convert {\n",
              "      background-color: #3B4455;\n",
              "      fill: #D2E3FC;\n",
              "    }\n",
              "\n",
              "    [theme=dark] .colab-df-convert:hover {\n",
              "      background-color: #434B5C;\n",
              "      box-shadow: 0px 1px 3px 1px rgba(0, 0, 0, 0.15);\n",
              "      filter: drop-shadow(0px 1px 2px rgba(0, 0, 0, 0.3));\n",
              "      fill: #FFFFFF;\n",
              "    }\n",
              "  </style>\n",
              "\n",
              "      <script>\n",
              "        const buttonEl =\n",
              "          document.querySelector('#df-cd245803-253f-49aa-95cd-3979f09ee068 button.colab-df-convert');\n",
              "        buttonEl.style.display =\n",
              "          google.colab.kernel.accessAllowed ? 'block' : 'none';\n",
              "\n",
              "        async function convertToInteractive(key) {\n",
              "          const element = document.querySelector('#df-cd245803-253f-49aa-95cd-3979f09ee068');\n",
              "          const dataTable =\n",
              "            await google.colab.kernel.invokeFunction('convertToInteractive',\n",
              "                                                     [key], {});\n",
              "          if (!dataTable) return;\n",
              "\n",
              "          const docLinkHtml = 'Like what you see? Visit the ' +\n",
              "            '<a target=\"_blank\" href=https://colab.research.google.com/notebooks/data_table.ipynb>data table notebook</a>'\n",
              "            + ' to learn more about interactive tables.';\n",
              "          element.innerHTML = '';\n",
              "          dataTable['output_type'] = 'display_data';\n",
              "          await google.colab.output.renderOutput(dataTable, element);\n",
              "          const docLink = document.createElement('div');\n",
              "          docLink.innerHTML = docLinkHtml;\n",
              "          element.appendChild(docLink);\n",
              "        }\n",
              "      </script>\n",
              "    </div>\n",
              "  </div>\n",
              "  "
            ]
          },
          "metadata": {},
          "execution_count": 10
        }
      ]
    },
    {
      "cell_type": "code",
      "source": [
        "len(cols)"
      ],
      "metadata": {
        "colab": {
          "base_uri": "https://localhost:8080/"
        },
        "id": "SeJBHOz9nxSZ",
        "outputId": "3cea0aca-83be-41f1-f3a4-6e40d524bdcb"
      },
      "execution_count": 11,
      "outputs": [
        {
          "output_type": "execute_result",
          "data": {
            "text/plain": [
              "49"
            ]
          },
          "metadata": {},
          "execution_count": 11
        }
      ]
    },
    {
      "cell_type": "markdown",
      "source": [
        "### Tratamiento missing values"
      ],
      "metadata": {
        "id": "tYMekiyY3ap6"
      }
    },
    {
      "cell_type": "code",
      "source": [
        "#Comprobamos que campos estan vacios con un heat map\n",
        "\n",
        "colours = ['#000099', '#ffff00'] # Amarillo --> falta el campo ; Azul--> No falta.\n",
        "sns.heatmap(data_util[cols].isnull(), cmap=sns.color_palette(colours))"
      ],
      "metadata": {
        "id": "S0fU1Kon0rQw",
        "colab": {
          "base_uri": "https://localhost:8080/",
          "height": 0
        },
        "outputId": "c1dcc68d-c8ed-40b7-dd73-7dd67d5ce2ff"
      },
      "execution_count": 12,
      "outputs": [
        {
          "output_type": "execute_result",
          "data": {
            "text/plain": [
              "<matplotlib.axes._subplots.AxesSubplot at 0x7fb1c20aae10>"
            ]
          },
          "metadata": {},
          "execution_count": 12
        },
        {
          "output_type": "display_data",
          "data": {
            "text/plain": [
              "<Figure size 432x288 with 2 Axes>"
            ],
            "image/png": "[encoded data removed]"
          },
          "metadata": {
            "needs_background": "light"
          }
        }
      ]
    },
    {
      "cell_type": "markdown",
      "source": [
        "Mostramos por pantalla los porcentajes de valores nulos por columna"
      ],
      "metadata": {
        "id": "sazoxZ4FW67M"
      }
    },
    {
      "cell_type": "code",
      "source": [
        "for col in data_util.columns:\n",
        "    pct_missing = np.mean(data_util[col].isnull())\n",
        "    print('{} - {}%'.format(col, round(pct_missing*100)))"
      ],
      "metadata": {
        "id": "Mi-0kV7_1Rmx",
        "colab": {
          "base_uri": "https://localhost:8080/"
        },
        "outputId": "a5dab185-a762-4d42-ea4f-9623e3eda0e2"
      },
      "execution_count": 13,
      "outputs": [
        {
          "output_type": "stream",
          "name": "stdout",
          "text": [
            "SEXO - 0%\n",
            "EDAD - 0%\n",
            "P2 - 0%\n",
            "P3 - 0%\n",
            "P4 - 91%\n",
            "P4B - 69%\n",
            "P10 - 0%\n",
            "P16A - 0%\n",
            "P16B - 0%\n",
            "P17A_1 - 65%\n",
            "P17A_2 - 65%\n",
            "P17A_3 - 65%\n",
            "P17A_4 - 65%\n",
            "P17A_5 - 65%\n",
            "P17A_6 - 65%\n",
            "P17A_7 - 65%\n",
            "P17A_8 - 65%\n",
            "P17A_9 - 65%\n",
            "P17A_10 - 65%\n",
            "P17A_11 - 65%\n",
            "P17A_12 - 65%\n",
            "P17A_13 - 65%\n",
            "P17A_14 - 65%\n",
            "P17A_15 - 65%\n",
            "P17A_16 - 65%\n",
            "P17A_17 - 65%\n",
            "P17A_18 - 65%\n",
            "P17A_19 - 65%\n",
            "P17A_96 - 65%\n",
            "P17A_99 - 65%\n",
            "P18 - 0%\n",
            "P18A - 73%\n",
            "P26 - 0%\n",
            "P26A - 82%\n",
            "P27 - 0%\n",
            "P27A - 94%\n",
            "P28 - 0%\n",
            "P29 - 0%\n",
            "P30 - 0%\n",
            "P30C_1 - 95%\n",
            "P30C_2 - 99%\n",
            "P30C_3 - 99%\n",
            "SITLAB - 0%\n",
            "SITCONVIVEN - 0%\n",
            "ESCUELA - 0%\n",
            "CNO11R - 0%\n",
            "ESTUDIOS - 0%\n",
            "RELIGIONR - 0%\n",
            "CLASESUB - 0%\n"
          ]
        }
      ]
    },
    {
      "cell_type": "code",
      "source": [
        "data_util['P29'].value_counts()"
      ],
      "metadata": {
        "id": "HQYCJOmjj-0U",
        "colab": {
          "base_uri": "https://localhost:8080/"
        },
        "outputId": "7efcd0c8-ef7f-4a62-ed0d-a59eb0a31b5e"
      },
      "execution_count": 14,
      "outputs": [
        {
          "output_type": "execute_result",
          "data": {
            "text/plain": [
              "2    2902\n",
              "1     179\n",
              "9       2\n",
              "Name: P29, dtype: int64"
            ]
          },
          "metadata": {},
          "execution_count": 14
        }
      ]
    },
    {
      "cell_type": "markdown",
      "source": [
        "Vamos a rellenar los valores nulos con lo que se corresponderia en la encuesta"
      ],
      "metadata": {
        "id": "qcC0Kgtw9kgt"
      }
    },
    {
      "cell_type": "code",
      "source": [
        "#Los valores NaN del dataset se pueden sustituir por 0\n",
        "data_util.fillna(0, inplace=True)"
      ],
      "metadata": {
        "id": "rT_TNwt11fBH",
        "colab": {
          "base_uri": "https://localhost:8080/"
        },
        "outputId": "cf3796c0-cdd6-4128-cf0d-c967e027bedb"
      },
      "execution_count": 15,
      "outputs": [
        {
          "output_type": "stream",
          "name": "stderr",
          "text": [
            "/usr/local/lib/python3.7/dist-packages/pandas/core/frame.py:5182: SettingWithCopyWarning: \n",
            "A value is trying to be set on a copy of a slice from a DataFrame\n",
            "\n",
            "See the caveats in the documentation: https://pandas.pydata.org/pandas-docs/stable/user_guide/indexing.html#returning-a-view-versus-a-copy\n",
            "  downcast=downcast,\n"
          ]
        }
      ]
    },
    {
      "cell_type": "code",
      "source": [
        "for col in data_util.columns:\n",
        "    pct_missing = np.mean(data_util[col].isnull())\n",
        "    print('{} - {}%'.format(col, round(pct_missing*100)))"
      ],
      "metadata": {
        "id": "dtFFDpPD6eAM",
        "colab": {
          "base_uri": "https://localhost:8080/"
        },
        "outputId": "0e7b4b27-556c-48fa-94ac-888299db2154"
      },
      "execution_count": 16,
      "outputs": [
        {
          "output_type": "stream",
          "name": "stdout",
          "text": [
            "SEXO - 0%\n",
            "EDAD - 0%\n",
            "P2 - 0%\n",
            "P3 - 0%\n",
            "P4 - 0%\n",
            "P4B - 0%\n",
            "P10 - 0%\n",
            "P16A - 0%\n",
            "P16B - 0%\n",
            "P17A_1 - 0%\n",
            "P17A_2 - 0%\n",
            "P17A_3 - 0%\n",
            "P17A_4 - 0%\n",
            "P17A_5 - 0%\n",
            "P17A_6 - 0%\n",
            "P17A_7 - 0%\n",
            "P17A_8 - 0%\n",
            "P17A_9 - 0%\n",
            "P17A_10 - 0%\n",
            "P17A_11 - 0%\n",
            "P17A_12 - 0%\n",
            "P17A_13 - 0%\n",
            "P17A_14 - 0%\n",
            "P17A_15 - 0%\n",
            "P17A_16 - 0%\n",
            "P17A_17 - 0%\n",
            "P17A_18 - 0%\n",
            "P17A_19 - 0%\n",
            "P17A_96 - 0%\n",
            "P17A_99 - 0%\n",
            "P18 - 0%\n",
            "P18A - 0%\n",
            "P26 - 0%\n",
            "P26A - 0%\n",
            "P27 - 0%\n",
            "P27A - 0%\n",
            "P28 - 0%\n",
            "P29 - 0%\n",
            "P30 - 0%\n",
            "P30C_1 - 0%\n",
            "P30C_2 - 0%\n",
            "P30C_3 - 0%\n",
            "SITLAB - 0%\n",
            "SITCONVIVEN - 0%\n",
            "ESCUELA - 0%\n",
            "CNO11R - 0%\n",
            "ESTUDIOS - 0%\n",
            "RELIGIONR - 0%\n",
            "CLASESUB - 0%\n"
          ]
        }
      ]
    },
    {
      "cell_type": "markdown",
      "source": [
        "### Agrupamiento y mapeado de variables\n",
        "\n",
        "Dado que algunas columnas podrían agruparse en una misma, haremos esto para simplificar nuestro dataset y reducir la dimensionalidad, asi como para agrupar algunos valores que están mapeados en diferentes categorias en la misma\n"
      ],
      "metadata": {
        "id": "LOqaqh8NLdmF"
      }
    },
    {
      "cell_type": "markdown",
      "source": [
        "Generamos una copia del df para hacer pruebas y modificaciones relevantes"
      ],
      "metadata": {
        "id": "9JfYC-Q3rnL2"
      }
    },
    {
      "cell_type": "code",
      "source": [
        "prueba = data_util.copy(deep = True)"
      ],
      "metadata": {
        "id": "NeDDFeRcrk6-"
      },
      "execution_count": 17,
      "outputs": []
    },
    {
      "cell_type": "markdown",
      "source": [
        "####Mapeado columnas"
      ],
      "metadata": {
        "id": "pCBSSLwIPm-W"
      }
    },
    {
      "cell_type": "markdown",
      "source": [
        "##### Pregunta P4 y P4B\n",
        "\n",
        "Columna 4: Los valores 0 de NP, corresponden a la misma categoria que los valores 2 (respuesta = 'No'). Esto es porque en la pregunta P3 ya le preguntamos  a la persona si había tenido covid, y si no lo ha tenido no puede haber estado hospitalizado por ello, por tanto no procede"
      ],
      "metadata": {
        "id": "vfdRl9m5ihWc"
      }
    },
    {
      "cell_type": "code",
      "source": [
        "for col in prueba.columns:\n",
        "  print(prueba[col].value_counts())"
      ],
      "metadata": {
        "id": "QHaK0WsWOp13",
        "colab": {
          "base_uri": "https://localhost:8080/"
        },
        "outputId": "6f03d5ad-fa61-419e-a60e-a53f7ba5d793"
      },
      "execution_count": 18,
      "outputs": [
        {
          "output_type": "stream",
          "name": "stdout",
          "text": [
            "2    1566\n",
            "1    1517\n",
            "Name: SEXO, dtype: int64\n",
            "50    85\n",
            "40    74\n",
            "55    73\n",
            "65    71\n",
            "56    71\n",
            "      ..\n",
            "89     4\n",
            "91     2\n",
            "93     1\n",
            "98     1\n",
            "92     1\n",
            "Name: EDAD, Length: 77, dtype: int64\n",
            "2    2890\n",
            "1     190\n",
            "9       3\n",
            "Name: P2, dtype: int64\n",
            "2    2802\n",
            "1     279\n",
            "9       2\n",
            "Name: P3, dtype: int64\n",
            "0.0    2804\n",
            "2.0     248\n",
            "1.0      30\n",
            "9.0       1\n",
            "Name: P4, dtype: int64\n",
            "0.0    2141\n",
            "2.0     832\n",
            "1.0     110\n",
            "Name: P4B, dtype: int64\n",
            "2    2593\n",
            "1     487\n",
            "9       3\n",
            "Name: P10, dtype: int64\n",
            "2    1988\n",
            "1    1091\n",
            "9       4\n",
            "Name: P16A, dtype: int64\n",
            "2    2267\n",
            "1     774\n",
            "9      42\n",
            "Name: P16B, dtype: int64\n",
            "0.0    1992\n",
            "2.0     771\n",
            "1.0     320\n",
            "Name: P17A_1, dtype: int64\n",
            "0.0    1992\n",
            "2.0     951\n",
            "1.0     140\n",
            "Name: P17A_2, dtype: int64\n",
            "0.0    1992\n",
            "2.0    1021\n",
            "1.0      70\n",
            "Name: P17A_3, dtype: int64\n",
            "0.0    1992\n",
            "2.0     913\n",
            "1.0     178\n",
            "Name: P17A_4, dtype: int64\n",
            "0.0    1992\n",
            "2.0    1055\n",
            "1.0      36\n",
            "Name: P17A_5, dtype: int64\n",
            "0.0    1992\n",
            "2.0    1086\n",
            "1.0       5\n",
            "Name: P17A_6, dtype: int64\n",
            "0.0    1992\n",
            "2.0     949\n",
            "1.0     142\n",
            "Name: P17A_7, dtype: int64\n",
            "0.0    1992\n",
            "2.0    1070\n",
            "1.0      21\n",
            "Name: P17A_8, dtype: int64\n",
            "0.0    1992\n",
            "2.0    1070\n",
            "1.0      21\n",
            "Name: P17A_9, dtype: int64\n",
            "0.0    1992\n",
            "2.0    1083\n",
            "1.0       8\n",
            "Name: P17A_10, dtype: int64\n",
            "0.0    1992\n",
            "2.0    1000\n",
            "1.0      91\n",
            "Name: P17A_11, dtype: int64\n",
            "0.0    1992\n",
            "2.0    1011\n",
            "1.0      80\n",
            "Name: P17A_12, dtype: int64\n",
            "0.0    1992\n",
            "2.0    1042\n",
            "1.0      49\n",
            "Name: P17A_13, dtype: int64\n",
            "0.0    1992\n",
            "2.0    1050\n",
            "1.0      41\n",
            "Name: P17A_14, dtype: int64\n",
            "0.0    1992\n",
            "2.0    1066\n",
            "1.0      25\n",
            "Name: P17A_15, dtype: int64\n",
            "0.0    1992\n",
            "2.0    1074\n",
            "1.0      17\n",
            "Name: P17A_16, dtype: int64\n",
            "0.0    1992\n",
            "2.0    1070\n",
            "1.0      21\n",
            "Name: P17A_17, dtype: int64\n",
            "0.0    1992\n",
            "2.0    1087\n",
            "1.0       4\n",
            "Name: P17A_18, dtype: int64\n",
            "0.0    1992\n",
            "2.0    1079\n",
            "1.0      12\n",
            "Name: P17A_19, dtype: int64\n",
            "0.0    1992\n",
            "2.0     995\n",
            "1.0      96\n",
            "Name: P17A_96, dtype: int64\n",
            "0.0    1992\n",
            "2.0    1080\n",
            "1.0      11\n",
            "Name: P17A_99, dtype: int64\n",
            "2    2234\n",
            "1     843\n",
            "9       6\n",
            "Name: P18, dtype: int64\n",
            "0.0    2240\n",
            "1.0     421\n",
            "2.0     361\n",
            "3.0      50\n",
            "4.0       8\n",
            "9.0       1\n",
            "6.0       1\n",
            "7.0       1\n",
            "Name: P18A, dtype: int64\n",
            "2    2541\n",
            "1     541\n",
            "9       1\n",
            "Name: P26, dtype: int64\n",
            "0.0     2542\n",
            "2.0      211\n",
            "3.0      179\n",
            "1.0       31\n",
            "99.0      20\n",
            "4.0       15\n",
            "10.0      14\n",
            "11.0      14\n",
            "9.0       13\n",
            "96.0       9\n",
            "12.0       8\n",
            "8.0        8\n",
            "5.0        6\n",
            "13.0       5\n",
            "7.0        4\n",
            "14.0       2\n",
            "6.0        2\n",
            "Name: P26A, dtype: int64\n",
            "2    2884\n",
            "1     197\n",
            "9       2\n",
            "Name: P27, dtype: int64\n",
            "0.0     2886\n",
            "3.0       86\n",
            "2.0       70\n",
            "1.0       10\n",
            "4.0        6\n",
            "10.0       5\n",
            "5.0        4\n",
            "99.0       4\n",
            "9.0        3\n",
            "11.0       3\n",
            "96.0       2\n",
            "12.0       2\n",
            "6.0        1\n",
            "7.0        1\n",
            "Name: P27A, dtype: int64\n",
            "2    2809\n",
            "1     272\n",
            "9       2\n",
            "Name: P28, dtype: int64\n",
            "2    2902\n",
            "1     179\n",
            "9       2\n",
            "Name: P29, dtype: int64\n",
            "2    2880\n",
            "1     145\n",
            "9      44\n",
            "8      14\n",
            "Name: P30, dtype: int64\n",
            "0.0    2938\n",
            "1.0     115\n",
            "2.0      23\n",
            "8.0       5\n",
            "9.0       2\n",
            "Name: P30C_1, dtype: int64\n",
            "0.0    3042\n",
            "9.0      20\n",
            "1.0       9\n",
            "8.0       8\n",
            "2.0       4\n",
            "Name: P30C_2, dtype: int64\n",
            "0.0    3053\n",
            "9.0      18\n",
            "8.0       8\n",
            "1.0       3\n",
            "2.0       1\n",
            "Name: P30C_3, dtype: int64\n",
            "1    1633\n",
            "2     738\n",
            "4     302\n",
            "7     146\n",
            "6     127\n",
            "3      81\n",
            "8      42\n",
            "5      12\n",
            "9       2\n",
            "Name: SITLAB, dtype: int64\n",
            "3    1166\n",
            "4     865\n",
            "1     403\n",
            "5     375\n",
            "2     158\n",
            "6     110\n",
            "9       6\n",
            "Name: SITCONVIVEN, dtype: int64\n",
            "3    3050\n",
            "2      23\n",
            "1       7\n",
            "9       3\n",
            "Name: ESCUELA, dtype: int64\n",
            "12    738\n",
            "3     401\n",
            "2     324\n",
            "16    314\n",
            "5     227\n",
            "4     172\n",
            "1     170\n",
            "14    146\n",
            "13    127\n",
            "15    123\n",
            "7     115\n",
            "9     100\n",
            "6      45\n",
            "8      28\n",
            "11     28\n",
            "10     14\n",
            "99     11\n",
            "Name: CNO11R, dtype: int64\n",
            "6    1215\n",
            "5     595\n",
            "3     519\n",
            "4     390\n",
            "2     253\n",
            "1      84\n",
            "9      19\n",
            "7       8\n",
            "Name: ESTUDIOS, dtype: int64\n",
            "2    1220\n",
            "4    1102\n",
            "1     595\n",
            "9      87\n",
            "3      79\n",
            "Name: RELIGIONR, dtype: int64\n",
            "2    1556\n",
            "3     439\n",
            "4     321\n",
            "5     254\n",
            "1     193\n",
            "8     162\n",
            "6     127\n",
            "9      31\n",
            "Name: CLASESUB, dtype: int64\n"
          ]
        }
      ]
    },
    {
      "cell_type": "code",
      "source": [
        "prueba['P4'] = prueba['P4'].map({0: 0, 1: 1, 2: 0, 9: 9})\n",
        "prueba['P4B'] = prueba['P4B'].map({0: 0, 1: 1, 2: 0, 9: 9})\n",
        "\n"
      ],
      "metadata": {
        "id": "gcklcsvYizLj"
      },
      "execution_count": 19,
      "outputs": []
    },
    {
      "cell_type": "markdown",
      "source": [
        "##### Pregunta Enfermedades Crónicas (P17A_...)\n",
        "En las preguntas P17A_, pregunta por el tipo de enfermedad crónica que padece, por lo que vamos a generar para cada enfermedad, una columna con los valores 0 y 1, que significaran que no padece la enfermedad y que si la padece respectivamente.\n",
        "\n",
        "\n",
        "{1:* Enfermedad cardiovascular\n",
        "2:* Diabetes\n",
        "3:* Cáncer\n",
        "4:*Enfermedad respiratoria\n",
        "5:* Enfermedad renal\n",
        "6:* Esclerosis múltiple\n",
        "7:* Enfermedad traumatológica\n",
        "8:* Osteoporosis\n",
        "9*Depresión grave\n",
        "10* Demencia (alzhéimer, párkinson, etc.)\n",
        "11*Enfermedad autoinmune\n",
        "12* Otras enfermedades reumáticas\n",
        "13* Enfermedades gastrointestinales\n",
        "14*Enfermedades del sistema nervioso, \n",
        "neurológica/neuromuscular  \n",
        "15* Colesterol\n",
        "16* Alergias\n",
        "17* Otras enfermedades y trastornos mentales\n",
        "18* Enfermedades hepáticas\n",
        "19* Patologías del trastorno del sueño\n",
        "20* Otra\n",
        "21* Varias enfermedades cronicas}\n",
        "\n"
      ],
      "metadata": {
        "id": "e4-8L8dkNobF"
      }
    },
    {
      "cell_type": "code",
      "source": [
        "for col in prueba.loc[:,\"P17A_1\":\"P17A_99\"].columns:\n",
        "  prueba[col] = prueba[col].map({0: 0,1: 1, 2: 0 })\n"
      ],
      "metadata": {
        "id": "Y8cogO3deyI9"
      },
      "execution_count": 20,
      "outputs": []
    },
    {
      "cell_type": "markdown",
      "source": [
        "##### Pregunta Hijos (P18 y P18A)\n",
        "En la pregunta P18A, donde pregunta por el número de hijos, convertimos aquellas personas que no contestaron (con código de respuesta 9), a personas con 0 hijos, y para personas con más de 3 hijos los dejamos con el numero 3\n"
      ],
      "metadata": {
        "id": "r7VpGdM3Y9S5"
      }
    },
    {
      "cell_type": "code",
      "source": [
        "prueba['P18A'] = prueba['P18A'].map({0:0,1:1,2:2,3:3,4:3,5:3,6:3,7:3,9:9})\n",
        "print(prueba['P18A'].value_counts())\n"
      ],
      "metadata": {
        "colab": {
          "base_uri": "https://localhost:8080/"
        },
        "id": "4oA2plNNIhJL",
        "outputId": "6af20bf9-191a-48ca-9a1d-778f65328e1a"
      },
      "execution_count": 21,
      "outputs": [
        {
          "output_type": "stream",
          "name": "stdout",
          "text": [
            "0    2240\n",
            "1     421\n",
            "2     361\n",
            "3      60\n",
            "9       1\n",
            "Name: P18A, dtype: int64\n"
          ]
        }
      ]
    },
    {
      "cell_type": "code",
      "source": [
        "prueba['P18'] = prueba['P18'].map({0: 0,1: 1, 2: 0, 9: 9})\n",
        "prueba['P18'].value_counts()"
      ],
      "metadata": {
        "colab": {
          "base_uri": "https://localhost:8080/"
        },
        "id": "grryp7heuh1m",
        "outputId": "7bd3d037-a2b1-420f-b7ff-44d14fd817fd"
      },
      "execution_count": 22,
      "outputs": [
        {
          "output_type": "execute_result",
          "data": {
            "text/plain": [
              "0    2234\n",
              "1     843\n",
              "9       6\n",
              "Name: P18, dtype: int64"
            ]
          },
          "metadata": {},
          "execution_count": 22
        }
      ]
    },
    {
      "cell_type": "markdown",
      "source": [
        "#### Creacion columnas por trastorno mental sufrido antes y despues de la pandemia (P26A y P27A)\n",
        "\n",
        "Dado que en esta pregunta esta cada trastorno mental codificado con un número y esto no viene bien para los algoritmos, vamos a crear para cada trastorno una columna, en la que el valor sera 1 si posee dicho trastorno y 0 si no lo posee.\n",
        "\n",
        "Sin embargo cuando el numero de casos positivos de dicho trastorno sea muy bajo no crearemos la columna, decidimos que minimo un 2% de los entrevistados han de poseer dicho trastorno para que generemos una columna con el nombre de dicho trastorno.\n"
      ],
      "metadata": {
        "id": "RoTp4fLiu6R7"
      }
    },
    {
      "cell_type": "code",
      "source": [
        "#Lista con los nombres de los trastornos que tenemos codificados\n",
        "trastornos = [\"Trastorno_de_conducta\", \"Trastorno_depresivo\",\"Trastorno_ansioso\", \"Trastorno_de_personalidad\", \"Psicosis\",\n",
        "              \"Trastornos_alimenticios\", \"Trastorno_estrés_laboral\", \"Trastornos_adictivos\",\"Trastorno_de_estrés_postraumático\",\n",
        "              \"Trastorno_de_ansiedad_por_enfermedad\", \"Trastornos_de_relaciones_afectivas_de_pareja\", \n",
        "              \"Trastorno_de_las_relaciones_emocionales\", \"Trastorno_por_pérdida_o_duelo\", \"Trastornos_del_sueño\", \"Otros\", \"N.C\"]\n",
        "#Numero asociado a cada trastorno\n",
        "lista = np.arange(1,15).tolist() + [96,99]\n",
        "\n",
        "n_filas=len(prueba['P27A'])\n",
        "#Numero maximo de valores negativos que puede haber en una columna para que la creemos (un 98% del total en este caso)\n",
        "max_negativos=n_filas*0.98\n",
        "\n",
        "for pregunta,periodo in zip(['P26A','P27A'],['antes','despues']):\n",
        "  \n",
        "  for i,j in zip(trastornos,lista):\n",
        "    \n",
        "    #Comprobamos cuantos registros tiene cada trastorno, y si superan un 2% del total, creamos la nueva columna\n",
        "    mapeado=(prueba[pregunta] == j).map({True: 1, False: 0})\n",
        "    conteo=mapeado.value_counts()\n",
        "    \n",
        "    if conteo[0] <= max_negativos:\n",
        "      \n",
        "      print('creada la columna ', i+'_'+periodo, ' con %i valores positivos %.2f' %(conteo[1],100*conteo[1]/n_filas),\"% del total\")\n",
        "      prueba[i+'_'+periodo] = mapeado\n",
        "\n",
        "prueba.drop(['P26A','P27A'],  axis = 1, inplace = True)"
      ],
      "metadata": {
        "colab": {
          "base_uri": "https://localhost:8080/"
        },
        "id": "bPgLQpktvdOb",
        "outputId": "85330374-ee3b-451b-aed8-c5923c4c0712"
      },
      "execution_count": 23,
      "outputs": [
        {
          "output_type": "stream",
          "name": "stdout",
          "text": [
            "creada la columna  Trastorno_depresivo_antes  con 211 valores positivos 6.84 % del total\n",
            "creada la columna  Trastorno_ansioso_antes  con 179 valores positivos 5.81 % del total\n",
            "creada la columna  Trastorno_depresivo_despues  con 70 valores positivos 2.27 % del total\n",
            "creada la columna  Trastorno_ansioso_despues  con 86 valores positivos 2.79 % del total\n"
          ]
        }
      ]
    },
    {
      "cell_type": "markdown",
      "source": [
        "#### Creacion columna familiares medicandose si o no (P30C_1, P30C_2, P30C_3)\n",
        "Podriamos crear una categoria que nos indique si el entrevistado/a tiene familiares medicandose\n",
        "\n"
      ],
      "metadata": {
        "id": "g59A-7o2DCIi"
      }
    },
    {
      "cell_type": "code",
      "source": [
        "#Generamos las columnas en las que colocamos si el familiar 1, 2 o 3 se medica\n",
        "try:\n",
        "  prueba['familiar1medicandose'] = (prueba['P30C_1'] == 1).map({True: 1, False: 0})\n",
        "  prueba['familiar2medicandose'] = (prueba['P30C_2'] == 1).map({True: 1, False: 0})\n",
        "  prueba['familiar3medicandose'] = (prueba['P30C_3'] == 1).map({True: 1, False: 0})\n",
        "\n",
        "  #Esta no creo que sea necesaria\n",
        "  prueba['numerofamiliaresmedicandose'] = prueba['familiar1medicandose']+prueba['familiar2medicandose']+prueba['familiar3medicandose'] \n",
        "\n",
        "  #Generamos la columna familiaresmedicandose_si_no que vale 0 si no tiene, y 1 si tiene 1 o mas famiiares medicandose\n",
        "  prueba['familiaresmedicandose_si_no'] = prueba['numerofamiliaresmedicandose'].map({0: 0, 1: 1, 2: 1, 3: 1})\n",
        "\n",
        "\n",
        "  print(\"Valores nueva columna 'familiaresmedicandose' \\n\",prueba['numerofamiliaresmedicandose'].value_counts())\n",
        "\n",
        "  #Eliminamos las columnas 'familiar1medicandose','familiar2medicandose','familiar3medicandose'\n",
        "  COL_ELIM = ['familiar1medicandose','familiar2medicandose','familiar3medicandose','P30C_1','P30C_2','P30C_3','numerofamiliaresmedicandose']\n",
        "\n",
        "  prueba.drop(COL_ELIM,  axis = 1, inplace = True)\n",
        "except:\n",
        "  print(\"ya no existen\")"
      ],
      "metadata": {
        "id": "rp2R6Y8r1dU9",
        "colab": {
          "base_uri": "https://localhost:8080/"
        },
        "outputId": "c68e8110-764c-4308-b11c-dab2893c4be8"
      },
      "execution_count": 24,
      "outputs": [
        {
          "output_type": "stream",
          "name": "stdout",
          "text": [
            "Valores nueva columna 'familiaresmedicandose' \n",
            " 0    2967\n",
            "1     107\n",
            "2       7\n",
            "3       2\n",
            "Name: numerofamiliaresmedicandose, dtype: int64\n"
          ]
        }
      ]
    },
    {
      "cell_type": "markdown",
      "source": [
        "#### Renombramos variables"
      ],
      "metadata": {
        "id": "itmhgW0iePHK"
      }
    },
    {
      "cell_type": "code",
      "source": [
        "prueba.rename(columns={'P26': 'Tratamiento_psi_antes', 'P27': 'Tratamiento_psi_desp',\n",
        "                       'P28': 'Tratamiento_far_antes','P29': 'Tratamiento_far_desp'},\n",
        "              inplace=True)"
      ],
      "metadata": {
        "id": "DlgiyiF-eTAL"
      },
      "execution_count": 25,
      "outputs": []
    },
    {
      "cell_type": "markdown",
      "source": [
        "### Eliminacion registros con muchos campos N.C\n",
        "\n",
        "En este dataset ya tratado que poseemos, los campos rellenos con el valor 9 representan la respuesta 'NC', que significa 'No Contesta', por lo que no nos está aportando información, y por tanto si vemos alguna fila que posea muchos de sus campos con estos valores procederemos a eliminarla. Si vemos que el total de filas que poseen al menos una fila con el valor 9 es bajo, eliminamos todas aquellas filas con algun valor vacio."
      ],
      "metadata": {
        "id": "RQ1g2OIAc6fh"
      }
    },
    {
      "cell_type": "markdown",
      "source": [
        "Comprobamos cuantas filas hay vacias para cada columna"
      ],
      "metadata": {
        "id": "yupP8zDOWwT4"
      }
    },
    {
      "cell_type": "code",
      "source": [
        "for col in prueba.columns:\n",
        "  pct = (prueba[col]==9)\n",
        "  print('{} - {}% - Total Filas Nulas: {}'.format(col, round(np.mean(pct)*100,2), pct.sum()))"
      ],
      "metadata": {
        "id": "YIUPxes2eOjh",
        "colab": {
          "base_uri": "https://localhost:8080/"
        },
        "outputId": "7ad28a0e-344b-4f17-fbef-21a5084e37da"
      },
      "execution_count": 26,
      "outputs": [
        {
          "output_type": "stream",
          "name": "stdout",
          "text": [
            "SEXO - 0.0% - Total Filas Nulas: 0\n",
            "EDAD - 0.0% - Total Filas Nulas: 0\n",
            "P2 - 0.1% - Total Filas Nulas: 3\n",
            "P3 - 0.06% - Total Filas Nulas: 2\n",
            "P4 - 0.03% - Total Filas Nulas: 1\n",
            "P4B - 0.0% - Total Filas Nulas: 0\n",
            "P10 - 0.1% - Total Filas Nulas: 3\n",
            "P16A - 0.13% - Total Filas Nulas: 4\n",
            "P16B - 1.36% - Total Filas Nulas: 42\n",
            "P17A_1 - 0.0% - Total Filas Nulas: 0\n",
            "P17A_2 - 0.0% - Total Filas Nulas: 0\n",
            "P17A_3 - 0.0% - Total Filas Nulas: 0\n",
            "P17A_4 - 0.0% - Total Filas Nulas: 0\n",
            "P17A_5 - 0.0% - Total Filas Nulas: 0\n",
            "P17A_6 - 0.0% - Total Filas Nulas: 0\n",
            "P17A_7 - 0.0% - Total Filas Nulas: 0\n",
            "P17A_8 - 0.0% - Total Filas Nulas: 0\n",
            "P17A_9 - 0.0% - Total Filas Nulas: 0\n",
            "P17A_10 - 0.0% - Total Filas Nulas: 0\n",
            "P17A_11 - 0.0% - Total Filas Nulas: 0\n",
            "P17A_12 - 0.0% - Total Filas Nulas: 0\n",
            "P17A_13 - 0.0% - Total Filas Nulas: 0\n",
            "P17A_14 - 0.0% - Total Filas Nulas: 0\n",
            "P17A_15 - 0.0% - Total Filas Nulas: 0\n",
            "P17A_16 - 0.0% - Total Filas Nulas: 0\n",
            "P17A_17 - 0.0% - Total Filas Nulas: 0\n",
            "P17A_18 - 0.0% - Total Filas Nulas: 0\n",
            "P17A_19 - 0.0% - Total Filas Nulas: 0\n",
            "P17A_96 - 0.0% - Total Filas Nulas: 0\n",
            "P17A_99 - 0.0% - Total Filas Nulas: 0\n",
            "P18 - 0.19% - Total Filas Nulas: 6\n",
            "P18A - 0.03% - Total Filas Nulas: 1\n",
            "Tratamiento_psi_antes - 0.03% - Total Filas Nulas: 1\n",
            "Tratamiento_psi_desp - 0.06% - Total Filas Nulas: 2\n",
            "Tratamiento_far_antes - 0.06% - Total Filas Nulas: 2\n",
            "Tratamiento_far_desp - 0.06% - Total Filas Nulas: 2\n",
            "P30 - 1.43% - Total Filas Nulas: 44\n",
            "SITLAB - 0.06% - Total Filas Nulas: 2\n",
            "SITCONVIVEN - 0.19% - Total Filas Nulas: 6\n",
            "ESCUELA - 0.1% - Total Filas Nulas: 3\n",
            "CNO11R - 3.24% - Total Filas Nulas: 100\n",
            "ESTUDIOS - 0.62% - Total Filas Nulas: 19\n",
            "RELIGIONR - 2.82% - Total Filas Nulas: 87\n",
            "CLASESUB - 1.01% - Total Filas Nulas: 31\n",
            "Trastorno_depresivo_antes - 0.0% - Total Filas Nulas: 0\n",
            "Trastorno_ansioso_antes - 0.0% - Total Filas Nulas: 0\n",
            "Trastorno_depresivo_despues - 0.0% - Total Filas Nulas: 0\n",
            "Trastorno_ansioso_despues - 0.0% - Total Filas Nulas: 0\n",
            "familiaresmedicandose_si_no - 0.0% - Total Filas Nulas: 0\n"
          ]
        }
      ]
    },
    {
      "cell_type": "code",
      "source": [
        "prueba2= prueba.copy(deep = True)"
      ],
      "metadata": {
        "id": "loTTzwxXXhb3"
      },
      "execution_count": 27,
      "outputs": []
    },
    {
      "cell_type": "code",
      "source": [
        "for col in prueba2.columns:\n",
        "  pct = (prueba2[col]==9)\n",
        "  indices_vacios=prueba2[pct].index.tolist()\n",
        "  prueba2.drop(indices_vacios, axis = 0, inplace = True)\n",
        "  pct_after = (prueba2[col]==9)\n",
        "  print('{} - {}% - Total Filas Nulas: {}'.format(col, round(np.mean(pct_after)*100,2), pct_after.sum()))\n",
        "\n",
        "print('La longitud del df pasa de {} a {} filas, es decir, eliminamos un {}% del total'.format(\n",
        "    len(prueba),len(prueba2),round(100-100*len(prueba2)/len(prueba),2)))"
      ],
      "metadata": {
        "id": "b-Ql0j2uYvXm",
        "colab": {
          "base_uri": "https://localhost:8080/"
        },
        "outputId": "df9ba07b-18ff-455e-e067-ef4bf50d6fa1"
      },
      "execution_count": 28,
      "outputs": [
        {
          "output_type": "stream",
          "name": "stdout",
          "text": [
            "SEXO - 0.0% - Total Filas Nulas: 0\n",
            "EDAD - 0.0% - Total Filas Nulas: 0\n",
            "P2 - 0.0% - Total Filas Nulas: 0\n",
            "P3 - 0.0% - Total Filas Nulas: 0\n",
            "P4 - 0.0% - Total Filas Nulas: 0\n",
            "P4B - 0.0% - Total Filas Nulas: 0\n",
            "P10 - 0.0% - Total Filas Nulas: 0\n",
            "P16A - 0.0% - Total Filas Nulas: 0\n",
            "P16B - 0.0% - Total Filas Nulas: 0\n",
            "P17A_1 - 0.0% - Total Filas Nulas: 0\n",
            "P17A_2 - 0.0% - Total Filas Nulas: 0\n",
            "P17A_3 - 0.0% - Total Filas Nulas: 0\n",
            "P17A_4 - 0.0% - Total Filas Nulas: 0\n",
            "P17A_5 - 0.0% - Total Filas Nulas: 0\n",
            "P17A_6 - 0.0% - Total Filas Nulas: 0\n",
            "P17A_7 - 0.0% - Total Filas Nulas: 0\n",
            "P17A_8 - 0.0% - Total Filas Nulas: 0\n",
            "P17A_9 - 0.0% - Total Filas Nulas: 0\n",
            "P17A_10 - 0.0% - Total Filas Nulas: 0\n",
            "P17A_11 - 0.0% - Total Filas Nulas: 0\n",
            "P17A_12 - 0.0% - Total Filas Nulas: 0\n",
            "P17A_13 - 0.0% - Total Filas Nulas: 0\n",
            "P17A_14 - 0.0% - Total Filas Nulas: 0\n",
            "P17A_15 - 0.0% - Total Filas Nulas: 0\n",
            "P17A_16 - 0.0% - Total Filas Nulas: 0\n",
            "P17A_17 - 0.0% - Total Filas Nulas: 0\n",
            "P17A_18 - 0.0% - Total Filas Nulas: 0\n",
            "P17A_19 - 0.0% - Total Filas Nulas: 0\n",
            "P17A_96 - 0.0% - Total Filas Nulas: 0\n",
            "P17A_99 - 0.0% - Total Filas Nulas: 0\n",
            "P18 - 0.0% - Total Filas Nulas: 0\n",
            "P18A - 0.0% - Total Filas Nulas: 0\n",
            "Tratamiento_psi_antes - 0.0% - Total Filas Nulas: 0\n",
            "Tratamiento_psi_desp - 0.0% - Total Filas Nulas: 0\n",
            "Tratamiento_far_antes - 0.0% - Total Filas Nulas: 0\n",
            "Tratamiento_far_desp - 0.0% - Total Filas Nulas: 0\n",
            "P30 - 0.0% - Total Filas Nulas: 0\n",
            "SITLAB - 0.0% - Total Filas Nulas: 0\n",
            "SITCONVIVEN - 0.0% - Total Filas Nulas: 0\n",
            "ESCUELA - 0.0% - Total Filas Nulas: 0\n",
            "CNO11R - 0.0% - Total Filas Nulas: 0\n",
            "ESTUDIOS - 0.0% - Total Filas Nulas: 0\n",
            "RELIGIONR - 0.0% - Total Filas Nulas: 0\n",
            "CLASESUB - 0.0% - Total Filas Nulas: 0\n",
            "Trastorno_depresivo_antes - 0.0% - Total Filas Nulas: 0\n",
            "Trastorno_ansioso_antes - 0.0% - Total Filas Nulas: 0\n",
            "Trastorno_depresivo_despues - 0.0% - Total Filas Nulas: 0\n",
            "Trastorno_ansioso_despues - 0.0% - Total Filas Nulas: 0\n",
            "familiaresmedicandose_si_no - 0.0% - Total Filas Nulas: 0\n",
            "La longitud del df pasa de 3083 a 2798 filas, es decir, eliminamos un 9.24% del total\n"
          ]
        }
      ]
    },
    {
      "cell_type": "markdown",
      "source": [
        "Reseteamos los indices tras la eliminacion de algunas de las filas"
      ],
      "metadata": {
        "id": "lXVG-7nxpDqF"
      }
    },
    {
      "cell_type": "code",
      "source": [
        "prueba2.reset_index(drop=True, inplace=True)\n"
      ],
      "metadata": {
        "id": "YmWH6LmVpDLl"
      },
      "execution_count": 29,
      "outputs": []
    },
    {
      "cell_type": "code",
      "source": [
        "prueba2.shape"
      ],
      "metadata": {
        "id": "46RrDFRJyGpR",
        "outputId": "5ac0cd46-4f14-4ac5-be3a-614d0d5eafbd",
        "colab": {
          "base_uri": "https://localhost:8080/"
        }
      },
      "execution_count": 30,
      "outputs": [
        {
          "output_type": "execute_result",
          "data": {
            "text/plain": [
              "(2798, 49)"
            ]
          },
          "metadata": {},
          "execution_count": 30
        }
      ]
    },
    {
      "cell_type": "markdown",
      "source": [
        "### Creación Nuevas Variables\n",
        "\n",
        "Vamosa generar nuevas variables:\n",
        "\n",
        "·[psic_antes] - Valores {0:No, 1:Si}\n",
        "\n",
        "·[psic_despues] - Valores {0:No, 1:Si}\n",
        "\n",
        "·[psic_antes_y_despues] - Valores {0:No, 1:Si}\n",
        "\n",
        "·[farm_antes] - Valores {0:No, 1:Si}\n",
        "\n",
        "·[farm_despues] - Valores {0:No, 1:Si}\n",
        "\n",
        "·[farm_antes_y_despues] - Valores {0:No, 1:Si}\n",
        "\n",
        "·[psic_y_farm_antes] - Valores {0:No, 1:Si}\n",
        "\n",
        "·[psic_y_farm_despues] - Valores {0:No, 1:Si}\n",
        "\n",
        "·[psic_y_farm_antes_y_despues] - Valores {0:No, 1:Si}\n"
      ],
      "metadata": {
        "id": "Xc5TywZRyS-g"
      }
    },
    {
      "cell_type": "code",
      "source": [
        "for i in ['Tratamiento_psi_antes', 'Tratamiento_psi_desp', 'Tratamiento_far_antes', 'Tratamiento_far_desp']:\n",
        "  print(prueba2[i].value_counts())"
      ],
      "metadata": {
        "colab": {
          "base_uri": "https://localhost:8080/"
        },
        "id": "ISMs0fkopYgX",
        "outputId": "d5c4b041-ce1d-4348-a7d5-6f4daed19548"
      },
      "execution_count": 31,
      "outputs": [
        {
          "output_type": "stream",
          "name": "stdout",
          "text": [
            "2    2316\n",
            "1     482\n",
            "Name: Tratamiento_psi_antes, dtype: int64\n",
            "2    2621\n",
            "1     177\n",
            "Name: Tratamiento_psi_desp, dtype: int64\n",
            "2    2563\n",
            "1     235\n",
            "Name: Tratamiento_far_antes, dtype: int64\n",
            "2    2636\n",
            "1     162\n",
            "Name: Tratamiento_far_desp, dtype: int64\n"
          ]
        }
      ]
    },
    {
      "cell_type": "code",
      "source": [
        "#Definimos el nombre de las columnas que vamos a generar\n",
        "nuevas_variables=['psic_antes', 'psic_despues', 'psic_antes_y_despues', 'farm_antes', 'farm_despues', 'farm_antes_y_despues',\n",
        "    'psic_y_farm_antes', 'psic_y_farm_despues', 'psic_y_farm_antes_y_despues', 'nunca_psic_o_farm']\n",
        "#Las creamos todas, y les damos el valor inicial de 0 a todos los registros\n",
        "prueba2[nuevas_variables] = 0\n",
        "\n",
        "#Creamos una lista con los nombres de las columnas de nuestro dataset que usaremos para generar las nuevas varaibles \n",
        "obj=['Tratamiento_psi_antes', 'Tratamiento_psi_desp', 'Tratamiento_far_antes', 'Tratamiento_far_desp']\n",
        "\n",
        "#Dado que 1=Si y 2=No, definimos para cada una de las nuevas varaibles cuales deben ser los valores de cada una de las variables dentro de la lista obj\n",
        "psic_antes = [1,2,2,2]\n",
        "psic_despues = [2,1,2,2]\n",
        "psic_antes_y_despues = [1,1,2,2]\n",
        "farm_antes = [2,2,1,2]\n",
        "farm_despues = [2,2,2,1]\n",
        "farm_antes_y_despues = [2,2,1,1]\n",
        "psic_y_farm_antes = [1,2,1,2]\n",
        "psic_y_farm_despues = [2,1,2,1]\n",
        "psic_y_farm_antes_y_despues = [1,1,1,1]\n",
        "nunca_psic_o_farm = [2,2,2,2]\n",
        "\n",
        "#Recorremos cada fila, y dependiendo de que columnas de la lista obj tengan valor positivo, cambiamos el valor de la nueva varaible a 1.\n",
        "for row in range(0,len(prueba2)):\n",
        "  \n",
        "  if (prueba2.loc[row,obj] == psic_antes).all():\n",
        "    prueba2.loc[row,'psic_antes'] = 1\n",
        "\n",
        "  elif (prueba2.loc[row,obj] == psic_despues).all():\n",
        "    prueba2.loc[row,'psic_despues'] = 1\n",
        "\n",
        "  elif (prueba2.loc[row,obj] == psic_antes_y_despues).all():\n",
        "    prueba2.loc[row,'psic_antes_y_despues'] = 1  \n",
        "\n",
        "  elif (prueba2.loc[row,obj] == farm_antes).all():\n",
        "    prueba2.loc[row,'farm_antes'] = 1\n",
        "\n",
        "  elif (prueba2.loc[row,obj] == farm_despues).all():\n",
        "    prueba2.loc[row,'farm_despues'] = 1\n",
        "\n",
        "  elif (prueba2.loc[row,obj] == farm_antes_y_despues).all():\n",
        "    prueba2.loc[row,'farm_antes_y_despues'] = 1\n",
        "  \n",
        "  elif (prueba2.loc[row,obj] == psic_y_farm_antes).all():\n",
        "    prueba2.loc[row,'psic_y_farm_antes'] = 1\n",
        "\n",
        "  elif (prueba2.loc[row,obj] == psic_y_farm_despues).all():\n",
        "    prueba2.loc[row,'psic_y_farm_despues'] = 1\n",
        "\n",
        "  elif (prueba2.loc[row,obj] == psic_y_farm_antes_y_despues).all():\n",
        "    prueba2.loc[row,'psic_y_farm_antes_y_despues'] = 1\n",
        "  \n",
        "  elif (prueba2.loc[row,obj] == nunca_psic_o_farm).all():\n",
        "    prueba2.loc[row,'nunca_psic_o_farm'] = 1\n",
        "\n",
        "#ahora eliminamos las variables que poseiamos originalemnte, las que estan en la lista obj\n",
        "prueba2.drop(obj,axis=1,inplace=True)"
      ],
      "metadata": {
        "id": "qD6s2-8M6_fR"
      },
      "execution_count": 32,
      "outputs": []
    },
    {
      "cell_type": "code",
      "source": [
        "for col in nuevas_variables:\n",
        "  print(prueba2[col].value_counts())"
      ],
      "metadata": {
        "id": "HYqA85EJQuzx",
        "colab": {
          "base_uri": "https://localhost:8080/"
        },
        "outputId": "a165737b-a9a1-4353-bc8b-c3bc1a06b489"
      },
      "execution_count": 33,
      "outputs": [
        {
          "output_type": "stream",
          "name": "stdout",
          "text": [
            "0    2546\n",
            "1     252\n",
            "Name: psic_antes, dtype: int64\n",
            "0    2768\n",
            "1      30\n",
            "Name: psic_despues, dtype: int64\n",
            "0    2760\n",
            "1      38\n",
            "Name: psic_antes_y_despues, dtype: int64\n",
            "0    2748\n",
            "1      50\n",
            "Name: farm_antes, dtype: int64\n",
            "0    2759\n",
            "1      39\n",
            "Name: farm_despues, dtype: int64\n",
            "0    2783\n",
            "1      15\n",
            "Name: farm_antes_y_despues, dtype: int64\n",
            "0    2719\n",
            "1      79\n",
            "Name: psic_y_farm_antes, dtype: int64\n",
            "0    2775\n",
            "1      23\n",
            "Name: psic_y_farm_despues, dtype: int64\n",
            "0    2760\n",
            "1      38\n",
            "Name: psic_y_farm_antes_y_despues, dtype: int64\n",
            "1    2156\n",
            "0     642\n",
            "Name: nunca_psic_o_farm, dtype: int64\n"
          ]
        }
      ]
    },
    {
      "cell_type": "markdown",
      "source": [
        "### Evaluación correlaciones entre variables\n",
        "\n",
        "Vamos a evaluar la correlación entre las variables mediante una matriz, en la que usaremos como coeficiente el Coeficiente de Correlación de Pearson. En el caso de que alguna de las correlaciones sea cercana a 1, eliminamos una de las varaibles, ya que no aportará nada de información a los modelos. Vamos a mostrar por pantalla todas auqellas correlaciones con valores superiores a 0.5, para comprobar la cantidad que tenemos."
      ],
      "metadata": {
        "id": "dGw1ksjK7J5P"
      }
    },
    {
      "cell_type": "code",
      "source": [
        "corr_matrix = prueba2.corr(method='pearson')\n"
      ],
      "metadata": {
        "id": "PY8L-Oj97fe4"
      },
      "execution_count": 34,
      "outputs": []
    },
    {
      "cell_type": "code",
      "source": [
        "for i in corr_matrix:\n",
        "  n=0\n",
        "  for j in corr_matrix[i]:\n",
        "    if j>0.5 and corr_matrix.columns[n] != i:\n",
        "      print('Correlacion entre {} y {} = {}'.format(i,corr_matrix.columns[n],j))\n",
        "    n+=1\n"
      ],
      "metadata": {
        "id": "ftx67umQt0B4",
        "colab": {
          "base_uri": "https://localhost:8080/"
        },
        "outputId": "a8173fc4-8e8b-4108-ae72-43ccd2bec8c1"
      },
      "execution_count": 35,
      "outputs": [
        {
          "output_type": "stream",
          "name": "stdout",
          "text": [
            "Correlacion entre P18 y P18A = 0.907906281644126\n",
            "Correlacion entre P18A y P18 = 0.907906281644126\n",
            "Correlacion entre SITLAB y CNO11R = 0.5726792507638222\n",
            "Correlacion entre CNO11R y SITLAB = 0.5726792507638222\n"
          ]
        }
      ]
    },
    {
      "cell_type": "markdown",
      "source": [
        "La unica columna que parece que podríamos eliminar es la P18A, ya que esta muy correlacionada con la 18, ya que una pregunta por si se tienen hijos o no, y la otra por el numero de hijos"
      ],
      "metadata": {
        "id": "betVf3brw2Ff"
      }
    },
    {
      "cell_type": "code",
      "source": [
        "prueba2.shape"
      ],
      "metadata": {
        "colab": {
          "base_uri": "https://localhost:8080/"
        },
        "id": "m0K52iIlyR7t",
        "outputId": "2ed2be61-c7c6-45d1-a351-264688ed8fa6"
      },
      "execution_count": 36,
      "outputs": [
        {
          "output_type": "execute_result",
          "data": {
            "text/plain": [
              "(2798, 55)"
            ]
          },
          "metadata": {},
          "execution_count": 36
        }
      ]
    },
    {
      "cell_type": "code",
      "source": [
        "try:\n",
        "  prueba2.drop(['P18A'], axis=1, inplace=True)\n",
        "except:\n",
        "  print(\"ya no existe\")\n"
      ],
      "metadata": {
        "id": "3EJtazq4xf1H"
      },
      "execution_count": 37,
      "outputs": []
    },
    {
      "cell_type": "markdown",
      "source": [
        "### Eliminacion columnas con pocos valores positivos\n",
        "\n",
        "Comporbamos que columnas tienen entre sus posibles valores, algunos que representen menos del 1% del total. Estudiaremos estas columnas, y si consideramos que el echo de que ese determinado valor sea tan reducido implica que la columna no nos genera demasiada información, procedemos a eliminarla"
      ],
      "metadata": {
        "id": "_G52P81q2x7X"
      }
    },
    {
      "cell_type": "code",
      "source": [
        "n_row=len(prueba2)\n",
        "for col in prueba2.columns:\n",
        "  n=0\n",
        "  valores = prueba2[col].value_counts()\n",
        "  for val in valores:\n",
        "    pct = round(100*val/n_row,2)\n",
        "    if pct < 2:\n",
        "      print('La columna {} tiene un {}% con valor {}'.format(col,pct,valores.index.tolist()[n]))\n",
        "    n+=1"
      ],
      "metadata": {
        "id": "LVJRpK2z2IrR",
        "colab": {
          "base_uri": "https://localhost:8080/"
        },
        "outputId": "9583ab7c-1664-4299-b8e0-8a9627d6dbd2"
      },
      "execution_count": 38,
      "outputs": [
        {
          "output_type": "stream",
          "name": "stdout",
          "text": [
            "La columna EDAD tiene un 1.97% con valor 52\n",
            "La columna EDAD tiene un 1.97% con valor 41\n",
            "La columna EDAD tiene un 1.97% con valor 54\n",
            "La columna EDAD tiene un 1.93% con valor 48\n",
            "La columna EDAD tiene un 1.89% con valor 57\n",
            "La columna EDAD tiene un 1.89% con valor 51\n",
            "La columna EDAD tiene un 1.86% con valor 53\n",
            "La columna EDAD tiene un 1.82% con valor 38\n",
            "La columna EDAD tiene un 1.82% con valor 66\n",
            "La columna EDAD tiene un 1.82% con valor 46\n",
            "La columna EDAD tiene un 1.79% con valor 72\n",
            "La columna EDAD tiene un 1.75% con valor 58\n",
            "La columna EDAD tiene un 1.72% con valor 62\n",
            "La columna EDAD tiene un 1.72% con valor 67\n",
            "La columna EDAD tiene un 1.68% con valor 49\n",
            "La columna EDAD tiene un 1.61% con valor 37\n",
            "La columna EDAD tiene un 1.61% con valor 68\n",
            "La columna EDAD tiene un 1.61% con valor 39\n",
            "La columna EDAD tiene un 1.57% con valor 59\n",
            "La columna EDAD tiene un 1.39% con valor 27\n",
            "La columna EDAD tiene un 1.39% con valor 25\n",
            "La columna EDAD tiene un 1.39% con valor 73\n",
            "La columna EDAD tiene un 1.39% con valor 30\n",
            "La columna EDAD tiene un 1.32% con valor 36\n",
            "La columna EDAD tiene un 1.29% con valor 63\n",
            "La columna EDAD tiene un 1.29% con valor 26\n",
            "La columna EDAD tiene un 1.29% con valor 31\n",
            "La columna EDAD tiene un 1.25% con valor 34\n",
            "La columna EDAD tiene un 1.25% con valor 64\n",
            "La columna EDAD tiene un 1.25% con valor 35\n",
            "La columna EDAD tiene un 1.22% con valor 71\n",
            "La columna EDAD tiene un 1.22% con valor 29\n",
            "La columna EDAD tiene un 1.22% con valor 21\n",
            "La columna EDAD tiene un 1.22% con valor 33\n",
            "La columna EDAD tiene un 1.18% con valor 32\n",
            "La columna EDAD tiene un 1.18% con valor 75\n",
            "La columna EDAD tiene un 1.14% con valor 23\n",
            "La columna EDAD tiene un 1.14% con valor 22\n",
            "La columna EDAD tiene un 1.14% con valor 76\n",
            "La columna EDAD tiene un 1.11% con valor 80\n",
            "La columna EDAD tiene un 1.11% con valor 24\n",
            "La columna EDAD tiene un 1.07% con valor 61\n",
            "La columna EDAD tiene un 1.07% con valor 28\n",
            "La columna EDAD tiene un 0.96% con valor 74\n",
            "La columna EDAD tiene un 0.93% con valor 20\n",
            "La columna EDAD tiene un 0.79% con valor 78\n",
            "La columna EDAD tiene un 0.75% con valor 18\n",
            "La columna EDAD tiene un 0.71% con valor 77\n",
            "La columna EDAD tiene un 0.5% con valor 19\n",
            "La columna EDAD tiene un 0.5% con valor 79\n",
            "La columna EDAD tiene un 0.39% con valor 86\n",
            "La columna EDAD tiene un 0.36% con valor 85\n",
            "La columna EDAD tiene un 0.36% con valor 84\n",
            "La columna EDAD tiene un 0.25% con valor 83\n",
            "La columna EDAD tiene un 0.25% con valor 87\n",
            "La columna EDAD tiene un 0.25% con valor 81\n",
            "La columna EDAD tiene un 0.14% con valor 82\n",
            "La columna EDAD tiene un 0.14% con valor 89\n",
            "La columna EDAD tiene un 0.11% con valor 90\n",
            "La columna EDAD tiene un 0.11% con valor 88\n",
            "La columna EDAD tiene un 0.04% con valor 93\n",
            "La columna EDAD tiene un 0.04% con valor 98\n",
            "La columna EDAD tiene un 0.04% con valor 92\n",
            "La columna EDAD tiene un 0.04% con valor 91\n",
            "La columna P4 tiene un 0.93% con valor 1\n",
            "La columna P17A_5 tiene un 1.25% con valor 1\n",
            "La columna P17A_6 tiene un 0.18% con valor 1\n",
            "La columna P17A_8 tiene un 0.61% con valor 1\n",
            "La columna P17A_9 tiene un 0.68% con valor 1\n",
            "La columna P17A_10 tiene un 0.25% con valor 1\n",
            "La columna P17A_13 tiene un 1.64% con valor 1\n",
            "La columna P17A_14 tiene un 1.32% con valor 1\n",
            "La columna P17A_15 tiene un 0.75% con valor 1\n",
            "La columna P17A_16 tiene un 0.54% con valor 1\n",
            "La columna P17A_17 tiene un 0.68% con valor 1\n",
            "La columna P17A_18 tiene un 0.11% con valor 1\n",
            "La columna P17A_19 tiene un 0.43% con valor 1\n",
            "La columna P17A_99 tiene un 0.25% con valor 1\n",
            "La columna P30 tiene un 0.43% con valor 8\n",
            "La columna SITLAB tiene un 1.36% con valor 8\n",
            "La columna SITLAB tiene un 0.36% con valor 5\n",
            "La columna ESCUELA tiene un 0.82% con valor 2\n",
            "La columna ESCUELA tiene un 0.21% con valor 1\n",
            "La columna CNO11R tiene un 1.57% con valor 6\n",
            "La columna CNO11R tiene un 0.96% con valor 11\n",
            "La columna CNO11R tiene un 0.89% con valor 8\n",
            "La columna CNO11R tiene un 0.5% con valor 10\n",
            "La columna CNO11R tiene un 0.18% con valor 99\n",
            "La columna ESTUDIOS tiene un 0.29% con valor 7\n",
            "La columna psic_despues tiene un 1.07% con valor 1\n",
            "La columna psic_antes_y_despues tiene un 1.36% con valor 1\n",
            "La columna farm_antes tiene un 1.79% con valor 1\n",
            "La columna farm_despues tiene un 1.39% con valor 1\n",
            "La columna farm_antes_y_despues tiene un 0.54% con valor 1\n",
            "La columna psic_y_farm_despues tiene un 0.82% con valor 1\n",
            "La columna psic_y_farm_antes_y_despues tiene un 1.36% con valor 1\n"
          ]
        }
      ]
    },
    {
      "cell_type": "code",
      "source": [
        "COL_ELIM = ['P17A_5', 'P17A_6','P17A_8', 'P17A_9', 'P17A_10', 'P17A_13', 'P17A_14', 'P17A_15', 'P17A_16', 'P17A_17', 'P17A_18', 'P17A_19', \n",
        "            'P17A_99']\n",
        "prueba2.drop(COL_ELIM, axis=1, inplace=True)\n",
        "\n",
        "print('Se han eliminado %i columnas por tener pocos valores positivos' %len(COL_ELIM))\n"
      ],
      "metadata": {
        "colab": {
          "base_uri": "https://localhost:8080/"
        },
        "id": "yBobJb9G6ZQn",
        "outputId": "13493d18-3db0-43b2-8dde-b1a109f4378c"
      },
      "execution_count": 39,
      "outputs": [
        {
          "output_type": "stream",
          "name": "stdout",
          "text": [
            "Se han eliminado 13 columnas por tener pocos valores positivos\n"
          ]
        }
      ]
    },
    {
      "cell_type": "markdown",
      "source": [
        "Vemos que las columas EDAD, CNO11R, ESTUDIOS, SITLAB al tener muchos posibles valores, algunos de ellos no llegan a representar un porcentaje elevado, pero no vamos a eliminarlas ya que nos siguen aportando información.\n",
        "\n",
        "Sin embargo, las columnas P17A_ que aparecen en la lista, representan cada una una enfermedad crónica, y al no tener una representación significativa sobre el conjunto total de los datos, podemos eliminarlas. **La P4 por su relevancia vamos a dejarla a pesar de sus pocos valores positivos (Hospitalización por Covid ahora o en el pasado de la\n",
        "persona entrevistada)**"
      ],
      "metadata": {
        "id": "T76CQdL57IJu"
      }
    },
    {
      "cell_type": "markdown",
      "source": [
        "### Mapeado Final\n",
        "\n"
      ],
      "metadata": {
        "id": "gtpduZOj3ROy"
      }
    },
    {
      "cell_type": "code",
      "source": [
        "prueba2['P30'] = prueba2['P30'].map({0: 0, 1: 1, 2: 0, 8: 0})\n",
        "\n",
        "\n",
        "\n",
        "for col in prueba2.columns:\n",
        "  if len(prueba2[col].value_counts()) == 2:\n",
        "    prueba2[col] = prueba2[col].map({0: 0, 1: 1, 2: 0})\n"
      ],
      "metadata": {
        "id": "v0tC9ctc3cFP"
      },
      "execution_count": 40,
      "outputs": []
    },
    {
      "cell_type": "markdown",
      "source": [
        "## Seleccion de características relevantes"
      ],
      "metadata": {
        "id": "Y1YyAhxZ6-7-"
      }
    },
    {
      "cell_type": "code",
      "source": [
        "#Importamos las librerias que usaremos en esta seccion\n",
        "from sklearn.feature_selection import SelectKBest, chi2, mutual_info_classif\n",
        "from scipy.stats import chi2_contingency, ttest_rel, ttest_ind, chisquare\n",
        "from scipy import spatial\n",
        "from numpy import ravel\n",
        "from scipy.spatial.distance import euclidean\n",
        "import itertools"
      ],
      "metadata": {
        "id": "qB8Z50RJOGkn"
      },
      "execution_count": 41,
      "outputs": []
    },
    {
      "cell_type": "markdown",
      "source": [
        "### Generación de datasets solo con las columnas objetivo\n",
        "\n",
        "Dado que tenemos muchas variables aún tras el preproceso, primero comenzaremos a trabajar con uno con menos variables, para ver los resultados que vamos obteniendo, y luego ampliaremos al dataset completo"
      ],
      "metadata": {
        "id": "9LGQezMi7f_Y"
      }
    },
    {
      "cell_type": "code",
      "source": [
        "\n",
        "VARIABLES = ['SEXO', 'EDAD', 'P2', 'P3', 'P4', 'P4B', 'P10', 'P16A', 'P16B',\n",
        "       'P17A_1', 'P17A_2', 'P17A_3', 'P17A_4', 'P17A_7', 'P17A_11', 'P17A_12',\n",
        "       'P17A_96', 'P18', 'P30', 'SITLAB', 'SITCONVIVEN', 'ESCUELA', \n",
        "       'ESTUDIOS', 'RELIGIONR', 'CLASESUB', 'Trastorno_depresivo_antes',\n",
        "       'Trastorno_ansioso_antes', 'Trastorno_depresivo_despues',\n",
        "       'Trastorno_ansioso_despues']\n",
        "#'Ocupaciones' debería estar pero no me gusta\n",
        "VARIABLES_RENOMB = ['Sexo', 'Edad', 'Sanitario', 'Tenencia_Covid', 'Hospitalizacion_Covid', \n",
        "                    'Fallecimiento_Familiar_por_Covid', 'Ataques_Ansiedad', 'Enfermedad_Cronica', \n",
        "                    'Enfermedad_Cronica_Familiar', 'Enfermedad_Cardiovascular', 'Diabetes', \n",
        "                    'Cancer', 'Enfermedad_Respiratoria', 'Enfermedad_Traumatologica', \n",
        "                    'Enfermedad_Autoinmune', 'Otra_Enfermedad_Cronica','Trastorno_Sueño', \n",
        "                    'Tenencia_de_Hijos', 'Medicacion_Familiar_por_Salud_Mental', 'Situacion_Laboral', \n",
        "                    'Situacion_Convivencia', 'Escolarizacion', 'Estudios', 'Religion', \n",
        "                    'Clase_Social', 'Trastorno_Depresivo_Antes','Trastorno_Ansioso_Antes', \n",
        "                    'Trastorno_Depresivo_Despues','Trastorno_Ansioso_Despues']\n",
        "\n",
        "nuevas_variables=['psic_antes', 'psic_despues', 'psic_antes_y_despues', 'farm_antes', 'farm_despues', 'farm_antes_y_despues',\n",
        "    'psic_y_farm_antes', 'psic_y_farm_despues', 'psic_y_farm_antes_y_despues', 'nunca_psic_o_farm']\n",
        "\n",
        "X = prueba2[VARIABLES]\n",
        "X.columns = VARIABLES_RENOMB\n",
        "\n",
        "Y = prueba2[nuevas_variables]\n",
        "\n",
        "#Aquellas variables que vamos a representar en el trabajo\n",
        "variables_salida = ['psic_antes', 'psic_despues', 'psic_antes_y_despues', 'farm_antes', 'farm_despues', 'farm_antes_y_despues','nunca_psic_o_farm']"
      ],
      "metadata": {
        "id": "b015uQzk9_bH"
      },
      "execution_count": 42,
      "outputs": []
    },
    {
      "cell_type": "code",
      "source": [
        "X.shape,Y.shape"
      ],
      "metadata": {
        "colab": {
          "base_uri": "https://localhost:8080/"
        },
        "id": "awv0NomFE5_v",
        "outputId": "b0a4b625-d730-4cc8-a236-a7c747b7a4bb"
      },
      "execution_count": 43,
      "outputs": [
        {
          "output_type": "execute_result",
          "data": {
            "text/plain": [
              "((2798, 29), (2798, 10))"
            ]
          },
          "metadata": {},
          "execution_count": 43
        }
      ]
    },
    {
      "cell_type": "markdown",
      "source": [
        "## Algortimos Seleccion Caracteristicas K-Best con Informacion_Mutua y Chi2\n",
        "\n",
        "\n",
        "\n"
      ],
      "metadata": {
        "id": "J9zkrpzHHaBN"
      }
    },
    {
      "cell_type": "markdown",
      "source": [
        "### Seleccion de características mediante f-classsic para cada variable objetivo"
      ],
      "metadata": {
        "id": "uq5g5RVC4uNF"
      }
    },
    {
      "cell_type": "code",
      "source": [
        "Variables_reducidas =['Sexo', 'Edad', 'Sanitario', 'Tenencia_Covid', 'Hospitalizacion_Covid', \n",
        "                    'Fallecimiento_Familiar_por_Covid', 'Ataques_Ansiedad', 'Enfermedad_Cronica', \n",
        "                    'Enfermedad_Cronica_Familiar', 'Enfermedad_Cardiovascular', 'Diabetes', \n",
        "                    'Cancer', 'Enfermedad_Respiratoria', 'Enfermedad_Traumatologica', \n",
        "                    'Enfermedad_Autoinmune', 'Otra_Enfermedad_Cronica','Trastorno_Sueño', \n",
        "                    'Tenencia_de_Hijos', 'Medicacion_Familiar_por_Salud_Mental', 'Situacion_Laboral', \n",
        "                    'Situacion_Convivencia', 'Escolarizacion', 'Estudios', 'Religion', \n",
        "                    'Clase_Social']\n",
        "\n",
        "variables_salida = ['psic_antes', 'psic_despues', 'psic_antes_y_despues', 'farm_antes', 'farm_despues', 'farm_antes_y_despues','nunca_psic_o_farm']\n",
        "#Definimos los dataframes donde almacenaremos los datos con los k-scores\n",
        "KBest_scores = pd.DataFrame(index = VARIABLES_RENOMB)\n",
        "KBest_scores_norm = pd.DataFrame(index = VARIABLES_RENOMB)\n",
        "KBest_scores['VARIABLES'] = VARIABLES_RENOMB\n",
        "for col in nuevas_variables:\n",
        "  salida = SelectKBest( k='all')\n",
        "  salida.fit(X[VARIABLES_RENOMB],Y[col])\n",
        "  scores = np.round(salida.scores_,3)\n",
        "  pct = np.round(scores/scores.max(),3)\n",
        "  KBest_scores[col] = scores\n",
        "  KBest_scores_norm[col] = pct\n",
        "\n",
        "  plt.figure(figsize=(5,8))\n",
        "  sns.barplot(x = col, y = 'VARIABLES', data = KBest_scores, orient = \"h\", \n",
        "              order = KBest_scores.sort_values(col,ascending = False).VARIABLES,\n",
        "              palette = sns.color_palette(\"ch:s=.25,rot=-.25_r\",n_colors=len(scores)))\n",
        "  plt.xlabel('K-Best scores')\n",
        "  plt.ylabel('')\n",
        "  plt.title('K-Best scores para columna objetivo: '+ col)\n",
        "  plt.show()\n",
        "\n",
        "KBest_scores.drop('VARIABLES',axis = 1, inplace = True)\n",
        "#KBest_scores.head(35)\n",
        "KBest_scores_norm.head(30)\n"
      ],
      "metadata": {
        "id": "gT7KirQ44reN"
      },
      "execution_count": null,
      "outputs": []
    },
    {
      "cell_type": "code",
      "source": [
        "round(100*pd.crosstab(X.Medicacion_Familiar_por_Salud_Mental,Y.farm_antes_y_despues,normalize=True, margins=True),3)"
      ],
      "metadata": {
        "id": "AvW-czvFUpdh"
      },
      "execution_count": null,
      "outputs": []
    },
    {
      "cell_type": "markdown",
      "source": [
        "### Seleccion de características mediante K-Best-Chi2 para cada variable objetivo\n",
        "\n"
      ],
      "metadata": {
        "id": "cgIGpGleMifH"
      }
    },
    {
      "cell_type": "code",
      "source": [
        "#Creamos los dataframes donde vamos a almacenar nuestros datos\n",
        "ChiSquare_scores = pd.DataFrame(index=VARIABLES_RENOMB)\n",
        "ChiSquare_scores_max = pd.DataFrame(index=VARIABLES_RENOMB)\n",
        "ChiSquare_scores['VARIABLES']  = VARIABLES_RENOMB\n",
        "\n",
        "#Recorremos cada una de las variables objetivo\n",
        "for col in nuevas_variables:\n",
        "  #Obtenemos los valores del test chi2 y sus p-values asociados\n",
        "  chidos,pvalue = chi2(X, Y[col])\n",
        "  #Almacenamos los chi obtenidos para cada variable en la columna correspondiente\n",
        "  ChiSquare_scores[col] = chidos\n",
        "  ChiSquare_scores_max[col] = chidos/chidos.max()\n",
        "  #Representamos las graficas\n",
        "  plt.figure(figsize=(8,6))\n",
        "  figura = sns.barplot(x = col, y = 'VARIABLES', data = ChiSquare_scores, orient = \"h\",\n",
        "              order = ChiSquare_scores.sort_values(col,ascending = False).VARIABLES,\n",
        "              palette = sns.color_palette(\"ch:s=.25,rot=-.25_r\",n_colors=24))\n",
        "  plt.title('Chi-square scores para la columna objetivo: '+ col)\n",
        "  plt.xlabel('Chi Square Score')\n",
        "  plt.ylabel('Variables')\n",
        "  #plt.savefig(f\"{images_dir}/CHISQUARE_{col}_fig.png\",bbox_inches='tight')\n",
        "  #files.download(f\"{images_dir}/CHISQUARE_{col}_fig.png\")\n",
        "  plt.show()\n",
        "  \n",
        "  #\n",
        "  ChiSquare_scores[col] = ChiSquare_scores[col].astype('string')\n",
        "  ChiSquare_scores_max[col] = ChiSquare_scores_max[col].astype('string')\n",
        "\n",
        "  for i in range(0,len(pvalue)):\n",
        "    if pvalue[i] < 0.001:\n",
        "      ChiSquare_scores[col][i] = str(round(chidos[i],3)) + \"***\" \n",
        "      ChiSquare_scores_max[col][i] = str(round(chidos[i]/chidos.max(),3)) + \"***\" \n",
        "\n",
        "    elif pvalue[i] < 0.01:\n",
        "      ChiSquare_scores[col][i] = str(round(chidos[i],3)) + \"**\"\n",
        "      ChiSquare_scores_max[col][i] = str(round(chidos[i]/chidos.max(),3)) + \"**\" \n",
        "\n",
        "    elif pvalue[i] < 0.05:\n",
        "      ChiSquare_scores[col][i] = str(round(chidos[i],3)) + \"*\"\n",
        "      ChiSquare_scores_max[col][i] = str(round(chidos[i]/chidos.max(),3)) + \"*\" \n",
        "\n",
        "    else:\n",
        "      ChiSquare_scores[col][i] = str(round(chidos[i],3))\n",
        "      ChiSquare_scores_max[col][i] = str(round(chidos[i]/chidos.max(),3))\n",
        "\n",
        "#ChiSquare_scores.drop('VARIABLES', axis = 1, inplace = True)\n",
        "\n"
      ],
      "metadata": {
        "id": "lkjhj6MQMnrm"
      },
      "execution_count": null,
      "outputs": []
    },
    {
      "cell_type": "markdown",
      "source": [
        "## Variables categóricas Test-ChiSquare "
      ],
      "metadata": {
        "id": "kWLxqNzqGzl9"
      }
    },
    {
      "cell_type": "code",
      "source": [
        "prueba3 = prueba2[VARIABLES + nuevas_variables]\n",
        "prueba3.columns = VARIABLES_RENOMB + nuevas_variables"
      ],
      "metadata": {
        "id": "rHM8RXAUAHvl"
      },
      "execution_count": null,
      "outputs": []
    },
    {
      "cell_type": "code",
      "source": [
        "VAR_CAT = ['Sexo', 'Sanitario', 'Tenencia_Covid', 'Hospitalizacion_Covid', \n",
        "            'Fallecimiento_Familiar_por_Covid', 'Ataques_Ansiedad', 'Enfermedad_Cronica', \n",
        "            'Enfermedad_Cronica_Familiar', 'Enfermedad_Cardiovascular', 'Diabetes', \n",
        "            'Cancer', 'Enfermedad_Respiratoria', 'Enfermedad_Traumatologica', \n",
        "            'Enfermedad_Autoinmune', 'Otra_Enfermedad_Cronica','Trastorno_Sueño', \n",
        "            'Tenencia_de_Hijos', 'Medicacion_Familiar_por_Salud_Mental', 'Situacion_Laboral', \n",
        "            'Situacion_Convivencia', 'Escolarizacion','Estudios', 'Religion', \n",
        "            'Clase_Social', 'Trastorno_Depresivo_Antes','Trastorno_Ansioso_Antes', \n",
        "            'Trastorno_Depresivo_Despues','Trastorno_Ansioso_Despues']        \n",
        "\n",
        "X_CAT = X[VAR_CAT]\n",
        "\n",
        "#Creamos los dataframes donde vamos a almacenar nuestros datos\n",
        "ChiSquare = pd.DataFrame(index=VAR_CAT)\n",
        "ChiSquare_Relevantes = pd.DataFrame(index=VAR_CAT)\n",
        "\n",
        "#Definimos el diccionario donde almacenaremos lso valores de los porcentajes de cada categoria\n",
        "pct_categorias = {}\n",
        "#Definimos un diccionario, que almacene para cada vaaible objetivo, cuales son las varaibles relevantes (p_value <= 0.5)\n",
        "variables_relevantes = {}\n",
        "\n",
        "for col in nuevas_variables:\n",
        "  ChiSquare[col] = 0\n",
        "  lista_pct_categorias = []\n",
        "  lista_indices_categorias = []\n",
        "  lista_nombre_variables = []\n",
        "  var_relevantes = []\n",
        "  for row in VAR_CAT:\n",
        "    #Creamos una tabla de contingencia para la variable y la variable objetivo y calculamos el test chisquare\n",
        "    tabla_contingencia = pd.crosstab(X_CAT[row], Y[col])\n",
        "    chisquare_test, p_value_chisquare, degrees_freedom, array = chi2_contingency(tabla_contingencia)\n",
        "    #Añadimos el resultado al df \n",
        "    ChiSquare.loc[row,col] = round(p_value_chisquare,3)\n",
        "    #Si son relevantes, añadimos un 1 a dicha variable en el df ChiSquare_Relevantes\n",
        "    if p_value_chisquare <= 0.05:\n",
        "      ChiSquare_Relevantes.loc[row,col] = 1\n",
        "      var_relevantes.append(row)\n",
        "    else:\n",
        "      ChiSquare_Relevantes.loc[row,col] = 0 \n",
        "    #Pasamos a porcentaje la tabla de contingencia\n",
        "    tabla_contingencia_pct = round(100*tabla_contingencia/len(X),2)\n",
        "    #La convertimos en un array 1D\n",
        "    tabla_contingencia_pct = np.array(tabla_contingencia_pct).ravel()\n",
        "    #Añadimos a la lista los porcentajes de cada categoría de todas las variables.\n",
        "    lista_pct_categorias.extend(tabla_contingencia_pct)\n",
        "    #Hacemos una lista con las posibles combinaciones entre las categorias de la varaible y la variable objetivo\n",
        "    combinaciones_categorias = list(itertools.product(tabla_contingencia.index.to_list(),tabla_contingencia.columns.to_list()))\n",
        "    lista_indices_categorias.extend(combinaciones_categorias)\n",
        "    lista_nombre_variables.extend([row]*len(combinaciones_categorias))\n",
        "  \n",
        "  #Añadimos al diccionario la lista con los porcentajes de las categorias de todas las variables\n",
        "  pct_categorias[col] = lista_pct_categorias\n",
        "  #Añadimos al diccionario 'variables_relevantes' el par clave valor (nombre variable objetivo, variables relevantes para esta)\n",
        "  variables_relevantes[col] = var_relevantes\n",
        "#Añadimos la columna 'Combinacion categorias' en la que estaran el indice de la columna y fila\n",
        "pct_categorias['Combinacion categorias'] = lista_indices_categorias\n",
        "#Generamos el DataFrame a partir del diccionario anterior\n",
        "\n",
        "df_pct_varibles = pd.DataFrame(pct_categorias, index = lista_nombre_variables)\n",
        "\n",
        "df_pct_varibles = df_pct_varibles[['Combinacion categorias','psic_antes', 'psic_despues', 'psic_antes_y_despues', \n",
        "                                   'farm_antes', 'farm_despues', 'farm_antes_y_despues','psic_y_farm_antes', \n",
        "                                   'psic_y_farm_despues', 'psic_y_farm_antes_y_despues', 'nunca_psic_o_farm']]\n",
        "\n",
        "df_pct_varibles['Combinacion categorias'] = df_pct_varibles['Combinacion categorias'].astype('string')\n",
        "#Debe haber 208 filas, porque son 104 categorias en total de las variables * 2 posibles categorias de las variables objetivo\n"
      ],
      "metadata": {
        "id": "NO8UxZXwG3bO"
      },
      "execution_count": 47,
      "outputs": []
    },
    {
      "cell_type": "code",
      "source": [
        "#ChiSquare.head(35)\n",
        "#ChiSquare_Relevantes[variables_salida].head(30)\n",
        "#variables_salida2 = ['Combinacion categorias','psic_antes', 'psic_despues', 'psic_antes_y_despues', 'farm_antes', 'farm_despues', 'farm_antes_y_despues','nunca_psic_o_farm']\n",
        "#df_pct_varibles[variables_salida2].head(8)\n"
      ],
      "metadata": {
        "id": "1AfqDPBgtQUc"
      },
      "execution_count": null,
      "outputs": []
    },
    {
      "cell_type": "code",
      "source": [
        "caracteristicas_relevantes = []\n",
        "for i in ['farm_antes', 'farm_despues', 'farm_antes_y_despues']:\n",
        "  lista_relevantes = ChiSquare_Relevantes[ChiSquare_Relevantes[i] == 1][i].index.to_list()\n",
        "  for rel in lista_relevantes:\n",
        "    if rel not in caracteristicas_relevantes:\n",
        "      caracteristicas_relevantes.append(rel)\n",
        "    else: pass\n",
        "#print(len(caracteristicas_relevantes))"
      ],
      "metadata": {
        "id": "hmHc5ssunuAJ"
      },
      "execution_count": null,
      "outputs": []
    },
    {
      "cell_type": "code",
      "source": [
        "for var in variables_salida:\n",
        "  relevantes = variables_relevantes['psic_despues']\n",
        "  sns.countplot( x ='variable', hue ='value', data = pd.melt(X_CAT[relevantes]))\n",
        "  plt.title('Distribucion de variables relevantes para la variable objetivo: {}'.format(var))\n",
        "  plt.xticks(rotation=45, ha='right')\n",
        "  plt.xlabel('Variables')\n",
        "  plt.ylabel('Numero de registros')\n",
        "\n",
        "  plt.show()\n"
      ],
      "metadata": {
        "id": "ivwo1UtEmKGp"
      },
      "execution_count": null,
      "outputs": []
    },
    {
      "cell_type": "code",
      "source": [
        "#round(100*pd.crosstab(X_CAT['Sanitario'], Y['psic_antes'],normalize=True,margins=True),3)\n",
        "#print(\"\\n\")\n",
        "#round(100*pd.crosstab(X_CAT['Sanitario'], Y['psic_despues'],normalize=True,margins=True),3)\n",
        "#print(\"\\n\")\n",
        "#round(100*pd.crosstab(X_CAT['Sanitario'], Y['psic_antes_y_despues'],normalize=True,margins=True),3)\n",
        "\n",
        "#round(100*pd.crosstab(X_CAT['Sexo'], Y['farm_antes'],normalize=True, margins=True),2)\n",
        "#print(\"\\n\")\n",
        "#round(100*pd.crosstab(X_CAT['Sexo'], Y['farm_despues'],normalize=True, margins=True),2)\n",
        "#print(\"\\n\")\n",
        "round(100*pd.crosstab(X_CAT['Sexo'], Y['farm_antes_y_despues'],normalize=True, margins=True),2)\n",
        "\n",
        "#print(round(pd.crosstab(X_CAT['Hospitalizacion_Covid'], Y['psic_antes'],normalize=False,margins=True),3))\n",
        "#print(\"\\n\")\n",
        "#print(round(pd.crosstab(X_CAT['Hospitalizacion_Covid'], Y['psic_despues'],normalize=False,margins=True),3))\n",
        "#print(\"\\n\")\n",
        "#print(round(pd.crosstab(X_CAT['Hospitalizacion_Covid'], Y['psic_antes_y_despues'],normalize=False,margins=True),3))"
      ],
      "metadata": {
        "colab": {
          "base_uri": "https://localhost:8080/",
          "height": 170
        },
        "id": "-2X4D6P7Ef-n",
        "outputId": "5ebef46b-d3a2-4869-c78c-2a32f041da41"
      },
      "execution_count": null,
      "outputs": [
        {
          "output_type": "execute_result",
          "data": {
            "text/plain": [
              "farm_antes_y_despues      0     1     All\n",
              "Sexo                                     \n",
              "0                     49.50  0.46   49.96\n",
              "1                     49.96  0.07   50.04\n",
              "All                   99.46  0.54  100.00"
            ],
            "text/html": [
              "\n",
              "  <div id=\"df-846bbb0e-da18-4e9e-8046-21880c5bcefb\">\n",
              "    <div class=\"colab-df-container\">\n",
              "      <div>\n",
              "<style scoped>\n",
              "    .dataframe tbody tr th:only-of-type {\n",
              "        vertical-align: middle;\n",
              "    }\n",
              "\n",
              "    .dataframe tbody tr th {\n",
              "        vertical-align: top;\n",
              "    }\n",
              "\n",
              "    .dataframe thead th {\n",
              "        text-align: right;\n",
              "    }\n",
              "</style>\n",
              "<table border=\"1\" class=\"dataframe\">\n",
              "  <thead>\n",
              "    <tr style=\"text-align: right;\">\n",
              "      <th>farm_antes_y_despues</th>\n",
              "      <th>0</th>\n",
              "      <th>1</th>\n",
              "      <th>All</th>\n",
              "    </tr>\n",
              "    <tr>\n",
              "      <th>Sexo</th>\n",
              "      <th></th>\n",
              "      <th></th>\n",
              "      <th></th>\n",
              "    </tr>\n",
              "  </thead>\n",
              "  <tbody>\n",
              "    <tr>\n",
              "      <th>0</th>\n",
              "      <td>49.50</td>\n",
              "      <td>0.46</td>\n",
              "      <td>49.96</td>\n",
              "    </tr>\n",
              "    <tr>\n",
              "      <th>1</th>\n",
              "      <td>49.96</td>\n",
              "      <td>0.07</td>\n",
              "      <td>50.04</td>\n",
              "    </tr>\n",
              "    <tr>\n",
              "      <th>All</th>\n",
              "      <td>99.46</td>\n",
              "      <td>0.54</td>\n",
              "      <td>100.00</td>\n",
              "    </tr>\n",
              "  </tbody>\n",
              "</table>\n",
              "</div>\n",
              "      <button class=\"colab-df-convert\" onclick=\"convertToInteractive('df-846bbb0e-da18-4e9e-8046-21880c5bcefb')\"\n",
              "              title=\"Convert this dataframe to an interactive table.\"\n",
              "              style=\"display:none;\">\n",
              "        \n",
              "  <svg xmlns=\"http://www.w3.org/2000/svg\" height=\"24px\"viewBox=\"0 0 24 24\"\n",
              "       width=\"24px\">\n",
              "    <path d=\"M0 0h24v24H0V0z\" fill=\"none\"/>\n",
              "    <path d=\"M18.56 5.44l.94 2.06.94-2.06 2.06-.94-2.06-.94-.94-2.06-.94 2.06-2.06.94zm-11 1L8.5 8.5l.94-2.06 2.06-.94-2.06-.94L8.5 2.5l-.94 2.06-2.06.94zm10 10l.94 2.06.94-2.06 2.06-.94-2.06-.94-.94-2.06-.94 2.06-2.06.94z\"/><path d=\"M17.41 7.96l-1.37-1.37c-.4-.4-.92-.59-1.43-.59-.52 0-1.04.2-1.43.59L10.3 9.45l-7.72 7.72c-.78.78-.78 2.05 0 2.83L4 21.41c.39.39.9.59 1.41.59.51 0 1.02-.2 1.41-.59l7.78-7.78 2.81-2.81c.8-.78.8-2.07 0-2.86zM5.41 20L4 18.59l7.72-7.72 1.47 1.35L5.41 20z\"/>\n",
              "  </svg>\n",
              "      </button>\n",
              "      \n",
              "  <style>\n",
              "    .colab-df-container {\n",
              "      display:flex;\n",
              "      flex-wrap:wrap;\n",
              "      gap: 12px;\n",
              "    }\n",
              "\n",
              "    .colab-df-convert {\n",
              "      background-color: #E8F0FE;\n",
              "      border: none;\n",
              "      border-radius: 50%;\n",
              "      cursor: pointer;\n",
              "      display: none;\n",
              "      fill: #1967D2;\n",
              "      height: 32px;\n",
              "      padding: 0 0 0 0;\n",
              "      width: 32px;\n",
              "    }\n",
              "\n",
              "    .colab-df-convert:hover {\n",
              "      background-color: #E2EBFA;\n",
              "      box-shadow: 0px 1px 2px rgba(60, 64, 67, 0.3), 0px 1px 3px 1px rgba(60, 64, 67, 0.15);\n",
              "      fill: #174EA6;\n",
              "    }\n",
              "\n",
              "    [theme=dark] .colab-df-convert {\n",
              "      background-color: #3B4455;\n",
              "      fill: #D2E3FC;\n",
              "    }\n",
              "\n",
              "    [theme=dark] .colab-df-convert:hover {\n",
              "      background-color: #434B5C;\n",
              "      box-shadow: 0px 1px 3px 1px rgba(0, 0, 0, 0.15);\n",
              "      filter: drop-shadow(0px 1px 2px rgba(0, 0, 0, 0.3));\n",
              "      fill: #FFFFFF;\n",
              "    }\n",
              "  </style>\n",
              "\n",
              "      <script>\n",
              "        const buttonEl =\n",
              "          document.querySelector('#df-846bbb0e-da18-4e9e-8046-21880c5bcefb button.colab-df-convert');\n",
              "        buttonEl.style.display =\n",
              "          google.colab.kernel.accessAllowed ? 'block' : 'none';\n",
              "\n",
              "        async function convertToInteractive(key) {\n",
              "          const element = document.querySelector('#df-846bbb0e-da18-4e9e-8046-21880c5bcefb');\n",
              "          const dataTable =\n",
              "            await google.colab.kernel.invokeFunction('convertToInteractive',\n",
              "                                                     [key], {});\n",
              "          if (!dataTable) return;\n",
              "\n",
              "          const docLinkHtml = 'Like what you see? Visit the ' +\n",
              "            '<a target=\"_blank\" href=https://colab.research.google.com/notebooks/data_table.ipynb>data table notebook</a>'\n",
              "            + ' to learn more about interactive tables.';\n",
              "          element.innerHTML = '';\n",
              "          dataTable['output_type'] = 'display_data';\n",
              "          await google.colab.output.renderOutput(dataTable, element);\n",
              "          const docLink = document.createElement('div');\n",
              "          docLink.innerHTML = docLinkHtml;\n",
              "          element.appendChild(docLink);\n",
              "        }\n",
              "      </script>\n",
              "    </div>\n",
              "  </div>\n",
              "  "
            ]
          },
          "metadata": {},
          "execution_count": 113
        }
      ]
    },
    {
      "cell_type": "code",
      "source": [
        "Y['psic_antes_y_despues'].value_counts()\n",
        "Y['psic_despues'].value_counts()"
      ],
      "metadata": {
        "colab": {
          "base_uri": "https://localhost:8080/"
        },
        "id": "Oh5gGVRIHQeL",
        "outputId": "681cec33-17a3-4744-83d2-12346a2e66c5"
      },
      "execution_count": null,
      "outputs": [
        {
          "output_type": "execute_result",
          "data": {
            "text/plain": [
              "0    2768\n",
              "1      30\n",
              "Name: psic_despues, dtype: int64"
            ]
          },
          "metadata": {},
          "execution_count": 107
        }
      ]
    },
    {
      "cell_type": "markdown",
      "source": [
        "### Matriz similitud coseno"
      ],
      "metadata": {
        "id": "Dc-op4uzXjxb"
      }
    },
    {
      "cell_type": "code",
      "source": [
        "SimilitudCoseno = pd.DataFrame(index = nuevas_variables, columns = nuevas_variables)\n",
        "for col in nuevas_variables:\n",
        "  for row in nuevas_variables:\n",
        "    #1 - spatial.distance.cosine equivale a la similitud coseno, dado que spatial.distance.cosine es la distancia\n",
        "    SimilitudCoseno.loc[col,row] = round(1 - spatial.distance.cosine(ChiSquare_Relevantes[col],ChiSquare_Relevantes[row] ),3)\n",
        "\n",
        "#SimilitudCoseno.loc[variables_salida,variables_salida].head(10)\n",
        " \n",
        "#SimilitudCoseno.head(10)"
      ],
      "metadata": {
        "id": "-X2-WIywXswZ"
      },
      "execution_count": null,
      "outputs": []
    },
    {
      "cell_type": "markdown",
      "source": [
        "### Matriz distancia euclidea entre combinaciones de categorias"
      ],
      "metadata": {
        "id": "VpEDC7YxcS6A"
      }
    },
    {
      "cell_type": "code",
      "source": [],
      "metadata": {
        "id": "7JoINARL7t7s"
      },
      "execution_count": null,
      "outputs": []
    },
    {
      "cell_type": "code",
      "source": [
        "DistanciasEuclideas = pd.DataFrame(index = nuevas_variables, columns = nuevas_variables)\n",
        "for col in nuevas_variables:\n",
        "  for row in nuevas_variables:\n",
        "    DistanciasEuclideas.loc[col,row] = round(euclidean(df_pct_varibles[col], df_pct_varibles[row]),3)\n",
        "#DistanciasEuclideas.loc[variables_salida,variables_salida].head(10)\n",
        "DistanciasEuclideas.head(10)"
      ],
      "metadata": {
        "colab": {
          "base_uri": "https://localhost:8080/",
          "height": 337
        },
        "id": "V1EigFTjcZO4",
        "outputId": "8fe638df-6882-42d4-e90f-3c329d56fff0"
      },
      "execution_count": 51,
      "outputs": [
        {
          "output_type": "execute_result",
          "data": {
            "text/plain": [
              "                            psic_antes psic_despues psic_antes_y_despues  \\\n",
              "psic_antes                         0.0       51.195               49.562   \n",
              "psic_despues                    51.195          0.0                2.448   \n",
              "psic_antes_y_despues            49.562        2.448                  0.0   \n",
              "farm_antes                      46.436        5.416                4.551   \n",
              "farm_despues                    49.014        2.788                2.612   \n",
              "farm_antes_y_despues            54.427        3.657                5.366   \n",
              "psic_y_farm_antes                40.42       11.533               10.005   \n",
              "psic_y_farm_despues             52.922        2.073                3.768   \n",
              "psic_y_farm_antes_y_despues     49.931        2.969                2.655   \n",
              "nunca_psic_o_farm              449.855      500.189              498.753   \n",
              "\n",
              "                            farm_antes farm_despues farm_antes_y_despues  \\\n",
              "psic_antes                      46.436       49.014               54.427   \n",
              "psic_despues                     5.416        2.788                3.657   \n",
              "psic_antes_y_despues             4.551        2.612                5.366   \n",
              "farm_antes                         0.0        3.164                8.259   \n",
              "farm_despues                     3.164          0.0                5.631   \n",
              "farm_antes_y_despues             8.259        5.631                  0.0   \n",
              "psic_y_farm_antes                6.924        9.326               14.392   \n",
              "psic_y_farm_despues              6.881        4.201                 2.03   \n",
              "psic_y_farm_antes_y_despues      4.703        2.908                5.151   \n",
              "nunca_psic_o_farm              495.314      497.976              503.466   \n",
              "\n",
              "                            psic_y_farm_antes psic_y_farm_despues  \\\n",
              "psic_antes                              40.42              52.922   \n",
              "psic_despues                           11.533               2.073   \n",
              "psic_antes_y_despues                   10.005               3.768   \n",
              "farm_antes                              6.924               6.881   \n",
              "farm_despues                            9.326               4.201   \n",
              "farm_antes_y_despues                   14.392                2.03   \n",
              "psic_y_farm_antes                         0.0              13.004   \n",
              "psic_y_farm_despues                    13.004                 0.0   \n",
              "psic_y_farm_antes_y_despues             9.941               3.613   \n",
              "nunca_psic_o_farm                     489.731             501.935   \n",
              "\n",
              "                            psic_y_farm_antes_y_despues nunca_psic_o_farm  \n",
              "psic_antes                                       49.931           449.855  \n",
              "psic_despues                                      2.969           500.189  \n",
              "psic_antes_y_despues                              2.655           498.753  \n",
              "farm_antes                                        4.703           495.314  \n",
              "farm_despues                                      2.908           497.976  \n",
              "farm_antes_y_despues                              5.151           503.466  \n",
              "psic_y_farm_antes                                 9.941           489.731  \n",
              "psic_y_farm_despues                               3.613           501.935  \n",
              "psic_y_farm_antes_y_despues                         0.0           499.107  \n",
              "nunca_psic_o_farm                               499.107               0.0  "
            ],
            "text/html": [
              "\n",
              "  <div id=\"df-3cc4f57c-4205-4145-8659-a9b2ee12442a\">\n",
              "    <div class=\"colab-df-container\">\n",
              "      <div>\n",
              "<style scoped>\n",
              "    .dataframe tbody tr th:only-of-type {\n",
              "        vertical-align: middle;\n",
              "    }\n",
              "\n",
              "    .dataframe tbody tr th {\n",
              "        vertical-align: top;\n",
              "    }\n",
              "\n",
              "    .dataframe thead th {\n",
              "        text-align: right;\n",
              "    }\n",
              "</style>\n",
              "<table border=\"1\" class=\"dataframe\">\n",
              "  <thead>\n",
              "    <tr style=\"text-align: right;\">\n",
              "      <th></th>\n",
              "      <th>psic_antes</th>\n",
              "      <th>psic_despues</th>\n",
              "      <th>psic_antes_y_despues</th>\n",
              "      <th>farm_antes</th>\n",
              "      <th>farm_despues</th>\n",
              "      <th>farm_antes_y_despues</th>\n",
              "      <th>psic_y_farm_antes</th>\n",
              "      <th>psic_y_farm_despues</th>\n",
              "      <th>psic_y_farm_antes_y_despues</th>\n",
              "      <th>nunca_psic_o_farm</th>\n",
              "    </tr>\n",
              "  </thead>\n",
              "  <tbody>\n",
              "    <tr>\n",
              "      <th>psic_antes</th>\n",
              "      <td>0.0</td>\n",
              "      <td>51.195</td>\n",
              "      <td>49.562</td>\n",
              "      <td>46.436</td>\n",
              "      <td>49.014</td>\n",
              "      <td>54.427</td>\n",
              "      <td>40.42</td>\n",
              "      <td>52.922</td>\n",
              "      <td>49.931</td>\n",
              "      <td>449.855</td>\n",
              "    </tr>\n",
              "    <tr>\n",
              "      <th>psic_despues</th>\n",
              "      <td>51.195</td>\n",
              "      <td>0.0</td>\n",
              "      <td>2.448</td>\n",
              "      <td>5.416</td>\n",
              "      <td>2.788</td>\n",
              "      <td>3.657</td>\n",
              "      <td>11.533</td>\n",
              "      <td>2.073</td>\n",
              "      <td>2.969</td>\n",
              "      <td>500.189</td>\n",
              "    </tr>\n",
              "    <tr>\n",
              "      <th>psic_antes_y_despues</th>\n",
              "      <td>49.562</td>\n",
              "      <td>2.448</td>\n",
              "      <td>0.0</td>\n",
              "      <td>4.551</td>\n",
              "      <td>2.612</td>\n",
              "      <td>5.366</td>\n",
              "      <td>10.005</td>\n",
              "      <td>3.768</td>\n",
              "      <td>2.655</td>\n",
              "      <td>498.753</td>\n",
              "    </tr>\n",
              "    <tr>\n",
              "      <th>farm_antes</th>\n",
              "      <td>46.436</td>\n",
              "      <td>5.416</td>\n",
              "      <td>4.551</td>\n",
              "      <td>0.0</td>\n",
              "      <td>3.164</td>\n",
              "      <td>8.259</td>\n",
              "      <td>6.924</td>\n",
              "      <td>6.881</td>\n",
              "      <td>4.703</td>\n",
              "      <td>495.314</td>\n",
              "    </tr>\n",
              "    <tr>\n",
              "      <th>farm_despues</th>\n",
              "      <td>49.014</td>\n",
              "      <td>2.788</td>\n",
              "      <td>2.612</td>\n",
              "      <td>3.164</td>\n",
              "      <td>0.0</td>\n",
              "      <td>5.631</td>\n",
              "      <td>9.326</td>\n",
              "      <td>4.201</td>\n",
              "      <td>2.908</td>\n",
              "      <td>497.976</td>\n",
              "    </tr>\n",
              "    <tr>\n",
              "      <th>farm_antes_y_despues</th>\n",
              "      <td>54.427</td>\n",
              "      <td>3.657</td>\n",
              "      <td>5.366</td>\n",
              "      <td>8.259</td>\n",
              "      <td>5.631</td>\n",
              "      <td>0.0</td>\n",
              "      <td>14.392</td>\n",
              "      <td>2.03</td>\n",
              "      <td>5.151</td>\n",
              "      <td>503.466</td>\n",
              "    </tr>\n",
              "    <tr>\n",
              "      <th>psic_y_farm_antes</th>\n",
              "      <td>40.42</td>\n",
              "      <td>11.533</td>\n",
              "      <td>10.005</td>\n",
              "      <td>6.924</td>\n",
              "      <td>9.326</td>\n",
              "      <td>14.392</td>\n",
              "      <td>0.0</td>\n",
              "      <td>13.004</td>\n",
              "      <td>9.941</td>\n",
              "      <td>489.731</td>\n",
              "    </tr>\n",
              "    <tr>\n",
              "      <th>psic_y_farm_despues</th>\n",
              "      <td>52.922</td>\n",
              "      <td>2.073</td>\n",
              "      <td>3.768</td>\n",
              "      <td>6.881</td>\n",
              "      <td>4.201</td>\n",
              "      <td>2.03</td>\n",
              "      <td>13.004</td>\n",
              "      <td>0.0</td>\n",
              "      <td>3.613</td>\n",
              "      <td>501.935</td>\n",
              "    </tr>\n",
              "    <tr>\n",
              "      <th>psic_y_farm_antes_y_despues</th>\n",
              "      <td>49.931</td>\n",
              "      <td>2.969</td>\n",
              "      <td>2.655</td>\n",
              "      <td>4.703</td>\n",
              "      <td>2.908</td>\n",
              "      <td>5.151</td>\n",
              "      <td>9.941</td>\n",
              "      <td>3.613</td>\n",
              "      <td>0.0</td>\n",
              "      <td>499.107</td>\n",
              "    </tr>\n",
              "    <tr>\n",
              "      <th>nunca_psic_o_farm</th>\n",
              "      <td>449.855</td>\n",
              "      <td>500.189</td>\n",
              "      <td>498.753</td>\n",
              "      <td>495.314</td>\n",
              "      <td>497.976</td>\n",
              "      <td>503.466</td>\n",
              "      <td>489.731</td>\n",
              "      <td>501.935</td>\n",
              "      <td>499.107</td>\n",
              "      <td>0.0</td>\n",
              "    </tr>\n",
              "  </tbody>\n",
              "</table>\n",
              "</div>\n",
              "      <button class=\"colab-df-convert\" onclick=\"convertToInteractive('df-3cc4f57c-4205-4145-8659-a9b2ee12442a')\"\n",
              "              title=\"Convert this dataframe to an interactive table.\"\n",
              "              style=\"display:none;\">\n",
              "        \n",
              "  <svg xmlns=\"http://www.w3.org/2000/svg\" height=\"24px\"viewBox=\"0 0 24 24\"\n",
              "       width=\"24px\">\n",
              "    <path d=\"M0 0h24v24H0V0z\" fill=\"none\"/>\n",
              "    <path d=\"M18.56 5.44l.94 2.06.94-2.06 2.06-.94-2.06-.94-.94-2.06-.94 2.06-2.06.94zm-11 1L8.5 8.5l.94-2.06 2.06-.94-2.06-.94L8.5 2.5l-.94 2.06-2.06.94zm10 10l.94 2.06.94-2.06 2.06-.94-2.06-.94-.94-2.06-.94 2.06-2.06.94z\"/><path d=\"M17.41 7.96l-1.37-1.37c-.4-.4-.92-.59-1.43-.59-.52 0-1.04.2-1.43.59L10.3 9.45l-7.72 7.72c-.78.78-.78 2.05 0 2.83L4 21.41c.39.39.9.59 1.41.59.51 0 1.02-.2 1.41-.59l7.78-7.78 2.81-2.81c.8-.78.8-2.07 0-2.86zM5.41 20L4 18.59l7.72-7.72 1.47 1.35L5.41 20z\"/>\n",
              "  </svg>\n",
              "      </button>\n",
              "      \n",
              "  <style>\n",
              "    .colab-df-container {\n",
              "      display:flex;\n",
              "      flex-wrap:wrap;\n",
              "      gap: 12px;\n",
              "    }\n",
              "\n",
              "    .colab-df-convert {\n",
              "      background-color: #E8F0FE;\n",
              "      border: none;\n",
              "      border-radius: 50%;\n",
              "      cursor: pointer;\n",
              "      display: none;\n",
              "      fill: #1967D2;\n",
              "      height: 32px;\n",
              "      padding: 0 0 0 0;\n",
              "      width: 32px;\n",
              "    }\n",
              "\n",
              "    .colab-df-convert:hover {\n",
              "      background-color: #E2EBFA;\n",
              "      box-shadow: 0px 1px 2px rgba(60, 64, 67, 0.3), 0px 1px 3px 1px rgba(60, 64, 67, 0.15);\n",
              "      fill: #174EA6;\n",
              "    }\n",
              "\n",
              "    [theme=dark] .colab-df-convert {\n",
              "      background-color: #3B4455;\n",
              "      fill: #D2E3FC;\n",
              "    }\n",
              "\n",
              "    [theme=dark] .colab-df-convert:hover {\n",
              "      background-color: #434B5C;\n",
              "      box-shadow: 0px 1px 3px 1px rgba(0, 0, 0, 0.15);\n",
              "      filter: drop-shadow(0px 1px 2px rgba(0, 0, 0, 0.3));\n",
              "      fill: #FFFFFF;\n",
              "    }\n",
              "  </style>\n",
              "\n",
              "      <script>\n",
              "        const buttonEl =\n",
              "          document.querySelector('#df-3cc4f57c-4205-4145-8659-a9b2ee12442a button.colab-df-convert');\n",
              "        buttonEl.style.display =\n",
              "          google.colab.kernel.accessAllowed ? 'block' : 'none';\n",
              "\n",
              "        async function convertToInteractive(key) {\n",
              "          const element = document.querySelector('#df-3cc4f57c-4205-4145-8659-a9b2ee12442a');\n",
              "          const dataTable =\n",
              "            await google.colab.kernel.invokeFunction('convertToInteractive',\n",
              "                                                     [key], {});\n",
              "          if (!dataTable) return;\n",
              "\n",
              "          const docLinkHtml = 'Like what you see? Visit the ' +\n",
              "            '<a target=\"_blank\" href=https://colab.research.google.com/notebooks/data_table.ipynb>data table notebook</a>'\n",
              "            + ' to learn more about interactive tables.';\n",
              "          element.innerHTML = '';\n",
              "          dataTable['output_type'] = 'display_data';\n",
              "          await google.colab.output.renderOutput(dataTable, element);\n",
              "          const docLink = document.createElement('div');\n",
              "          docLink.innerHTML = docLinkHtml;\n",
              "          element.appendChild(docLink);\n",
              "        }\n",
              "      </script>\n",
              "    </div>\n",
              "  </div>\n",
              "  "
            ]
          },
          "metadata": {},
          "execution_count": 51
        }
      ]
    },
    {
      "cell_type": "markdown",
      "source": [
        "### Diagramas de frecuencia en las variables relevantes"
      ],
      "metadata": {
        "id": "0XO26DdomE2p"
      }
    },
    {
      "cell_type": "markdown",
      "source": [
        "## Variables continuas (T-Test):\n",
        "En este caso solo disponemos de la EDAD como variable continua"
      ],
      "metadata": {
        "id": "k84Vk1UnMZS5"
      }
    },
    {
      "cell_type": "code",
      "source": [
        "#Distriucion de la edad\n",
        "sns.displot(X, x=\"Edad\")\n",
        "plt.title('Distribucion edades')\n",
        "plt.xlabel('Edad')\n",
        "plt.ylabel('Numero de encuestados')\n",
        "plt.show()"
      ],
      "metadata": {
        "id": "p21rio69D6gv",
        "colab": {
          "base_uri": "https://localhost:8080/",
          "height": 385
        },
        "outputId": "284d7b42-1bf7-4d40-afa5-9b0f341bb2ba"
      },
      "execution_count": null,
      "outputs": [
        {
          "output_type": "display_data",
          "data": {
            "text/plain": [
              "<Figure size 360x360 with 1 Axes>"
            ],
            "image/png": "[encoded data removed]"
          },
          "metadata": {
            "needs_background": "light"
          }
        }
      ]
    },
    {
      "cell_type": "code",
      "source": [
        "VAR_CONT = ['Edad']\n",
        "X_CONT = X[VAR_CONT]\n",
        "\n",
        "TTest_scores = pd.DataFrame(index=VAR_CONT)\n",
        "TTest_p_values = pd.DataFrame(index=VAR_CONT)\n",
        "\n",
        "for col in nuevas_variables:\n",
        "  a = X_CONT[Y[col] == 1]['Edad']\n",
        "  b = X_CONT[Y[col] == 0]['Edad']\n",
        "  ttest,pvalue = ttest_ind(a, b)\n",
        "  TTest_scores[col] = round(ttest, 3)\n",
        "  TTest_p_values[col] = round(pvalue, 3)\n",
        "\n",
        "#TTest_scores.loc[:,variables_salida].head()\n",
        "#TTest_p_values.head(10)\n",
        "TTest_scores.head(10)\n"
      ],
      "metadata": {
        "id": "X3cu1nDxMYxQ",
        "colab": {
          "base_uri": "https://localhost:8080/",
          "height": 128
        },
        "outputId": "b8cb9dfa-7046-4b87-c543-1d63d0e591a6"
      },
      "execution_count": 55,
      "outputs": [
        {
          "output_type": "execute_result",
          "data": {
            "text/plain": [
              "      psic_antes  psic_despues  psic_antes_y_despues  farm_antes  \\\n",
              "Edad      -4.568         -4.14                -4.457       3.993   \n",
              "\n",
              "      farm_despues  farm_antes_y_despues  psic_y_farm_antes  \\\n",
              "Edad        -0.282                 1.798              2.289   \n",
              "\n",
              "      psic_y_farm_despues  psic_y_farm_antes_y_despues  nunca_psic_o_farm  \n",
              "Edad               -1.289                        -0.26              3.691  "
            ],
            "text/html": [
              "\n",
              "  <div id=\"df-4a98cb87-c4b3-40e7-b530-52cefff360eb\">\n",
              "    <div class=\"colab-df-container\">\n",
              "      <div>\n",
              "<style scoped>\n",
              "    .dataframe tbody tr th:only-of-type {\n",
              "        vertical-align: middle;\n",
              "    }\n",
              "\n",
              "    .dataframe tbody tr th {\n",
              "        vertical-align: top;\n",
              "    }\n",
              "\n",
              "    .dataframe thead th {\n",
              "        text-align: right;\n",
              "    }\n",
              "</style>\n",
              "<table border=\"1\" class=\"dataframe\">\n",
              "  <thead>\n",
              "    <tr style=\"text-align: right;\">\n",
              "      <th></th>\n",
              "      <th>psic_antes</th>\n",
              "      <th>psic_despues</th>\n",
              "      <th>psic_antes_y_despues</th>\n",
              "      <th>farm_antes</th>\n",
              "      <th>farm_despues</th>\n",
              "      <th>farm_antes_y_despues</th>\n",
              "      <th>psic_y_farm_antes</th>\n",
              "      <th>psic_y_farm_despues</th>\n",
              "      <th>psic_y_farm_antes_y_despues</th>\n",
              "      <th>nunca_psic_o_farm</th>\n",
              "    </tr>\n",
              "  </thead>\n",
              "  <tbody>\n",
              "    <tr>\n",
              "      <th>Edad</th>\n",
              "      <td>-4.568</td>\n",
              "      <td>-4.14</td>\n",
              "      <td>-4.457</td>\n",
              "      <td>3.993</td>\n",
              "      <td>-0.282</td>\n",
              "      <td>1.798</td>\n",
              "      <td>2.289</td>\n",
              "      <td>-1.289</td>\n",
              "      <td>-0.26</td>\n",
              "      <td>3.691</td>\n",
              "    </tr>\n",
              "  </tbody>\n",
              "</table>\n",
              "</div>\n",
              "      <button class=\"colab-df-convert\" onclick=\"convertToInteractive('df-4a98cb87-c4b3-40e7-b530-52cefff360eb')\"\n",
              "              title=\"Convert this dataframe to an interactive table.\"\n",
              "              style=\"display:none;\">\n",
              "        \n",
              "  <svg xmlns=\"http://www.w3.org/2000/svg\" height=\"24px\"viewBox=\"0 0 24 24\"\n",
              "       width=\"24px\">\n",
              "    <path d=\"M0 0h24v24H0V0z\" fill=\"none\"/>\n",
              "    <path d=\"M18.56 5.44l.94 2.06.94-2.06 2.06-.94-2.06-.94-.94-2.06-.94 2.06-2.06.94zm-11 1L8.5 8.5l.94-2.06 2.06-.94-2.06-.94L8.5 2.5l-.94 2.06-2.06.94zm10 10l.94 2.06.94-2.06 2.06-.94-2.06-.94-.94-2.06-.94 2.06-2.06.94z\"/><path d=\"M17.41 7.96l-1.37-1.37c-.4-.4-.92-.59-1.43-.59-.52 0-1.04.2-1.43.59L10.3 9.45l-7.72 7.72c-.78.78-.78 2.05 0 2.83L4 21.41c.39.39.9.59 1.41.59.51 0 1.02-.2 1.41-.59l7.78-7.78 2.81-2.81c.8-.78.8-2.07 0-2.86zM5.41 20L4 18.59l7.72-7.72 1.47 1.35L5.41 20z\"/>\n",
              "  </svg>\n",
              "      </button>\n",
              "      \n",
              "  <style>\n",
              "    .colab-df-container {\n",
              "      display:flex;\n",
              "      flex-wrap:wrap;\n",
              "      gap: 12px;\n",
              "    }\n",
              "\n",
              "    .colab-df-convert {\n",
              "      background-color: #E8F0FE;\n",
              "      border: none;\n",
              "      border-radius: 50%;\n",
              "      cursor: pointer;\n",
              "      display: none;\n",
              "      fill: #1967D2;\n",
              "      height: 32px;\n",
              "      padding: 0 0 0 0;\n",
              "      width: 32px;\n",
              "    }\n",
              "\n",
              "    .colab-df-convert:hover {\n",
              "      background-color: #E2EBFA;\n",
              "      box-shadow: 0px 1px 2px rgba(60, 64, 67, 0.3), 0px 1px 3px 1px rgba(60, 64, 67, 0.15);\n",
              "      fill: #174EA6;\n",
              "    }\n",
              "\n",
              "    [theme=dark] .colab-df-convert {\n",
              "      background-color: #3B4455;\n",
              "      fill: #D2E3FC;\n",
              "    }\n",
              "\n",
              "    [theme=dark] .colab-df-convert:hover {\n",
              "      background-color: #434B5C;\n",
              "      box-shadow: 0px 1px 3px 1px rgba(0, 0, 0, 0.15);\n",
              "      filter: drop-shadow(0px 1px 2px rgba(0, 0, 0, 0.3));\n",
              "      fill: #FFFFFF;\n",
              "    }\n",
              "  </style>\n",
              "\n",
              "      <script>\n",
              "        const buttonEl =\n",
              "          document.querySelector('#df-4a98cb87-c4b3-40e7-b530-52cefff360eb button.colab-df-convert');\n",
              "        buttonEl.style.display =\n",
              "          google.colab.kernel.accessAllowed ? 'block' : 'none';\n",
              "\n",
              "        async function convertToInteractive(key) {\n",
              "          const element = document.querySelector('#df-4a98cb87-c4b3-40e7-b530-52cefff360eb');\n",
              "          const dataTable =\n",
              "            await google.colab.kernel.invokeFunction('convertToInteractive',\n",
              "                                                     [key], {});\n",
              "          if (!dataTable) return;\n",
              "\n",
              "          const docLinkHtml = 'Like what you see? Visit the ' +\n",
              "            '<a target=\"_blank\" href=https://colab.research.google.com/notebooks/data_table.ipynb>data table notebook</a>'\n",
              "            + ' to learn more about interactive tables.';\n",
              "          element.innerHTML = '';\n",
              "          dataTable['output_type'] = 'display_data';\n",
              "          await google.colab.output.renderOutput(dataTable, element);\n",
              "          const docLink = document.createElement('div');\n",
              "          docLink.innerHTML = docLinkHtml;\n",
              "          element.appendChild(docLink);\n",
              "        }\n",
              "      </script>\n",
              "    </div>\n",
              "  </div>\n",
              "  "
            ]
          },
          "metadata": {},
          "execution_count": 55
        }
      ]
    },
    {
      "cell_type": "code",
      "source": [
        "for col in variables_salida:\n",
        "  sns.boxplot(data = prueba2, x = col, y = 'EDAD')\n",
        "  plt.ylabel('Edad')\n",
        "  plt.title('Distribución Edad para la variable {}'.format(col))\n",
        "  plt.show()"
      ],
      "metadata": {
        "id": "1lus82ZIzG8L"
      },
      "execution_count": null,
      "outputs": []
    },
    {
      "cell_type": "code",
      "source": [
        "#Almacenaremos en un df todos los valores con los valores positivos de cada variable farm\n",
        "farm = pd.melt(Y[['farm_antes','farm_despues','farm_antes_y_despues']])\n",
        "farm_pos = farm[farm['value'] == 1]\n",
        "edad = []\n",
        "for col in ['farm_antes','farm_despues','farm_antes_y_despues']:\n",
        "  edad = edad + (prueba3[Y[col] == 1]['Edad']).to_list()\n",
        "farm_pos['Edad'] = edad\n",
        "\n",
        "sns.boxplot(data = farm_pos, x = 'variable', y = 'Edad')\n",
        "plt.ylabel('Edad')\n",
        "plt.xlabel('')\n",
        "plt.title('Distribucion edades tratamientos farmacológicos')\n",
        "plt.show()\n",
        "\n",
        "#Almacenaremos en un df todos los valores con los valores positivos de cada variable psic\n",
        "psic = pd.melt(Y[['psic_antes','psic_despues','psic_antes_y_despues']])\n",
        "psic_pos = psic[psic['value'] == 1]\n",
        "edad = []\n",
        "for col in ['psic_antes','psic_despues','psic_antes_y_despues']:\n",
        "  edad = edad + (prueba3[Y[col] == 1]['Edad']).to_list()\n",
        "psic_pos['Edad'] = edad\n",
        "\n",
        "sns.boxplot(data = psic_pos, x = 'variable', y = 'Edad')\n",
        "plt.ylabel('Edad')\n",
        "plt.xlabel('')\n",
        "plt.title('Distribucion edades tratamientos psicológicos')\n",
        "plt.show()"
      ],
      "metadata": {
        "id": "16dfwxORfA9p"
      },
      "execution_count": null,
      "outputs": []
    },
    {
      "cell_type": "code",
      "source": [
        "#Histogramas superpuestos\n",
        "\n",
        "for col in variables_salida:\n",
        "  plt.hist(X_CONT[Y[col] == 0]['Edad'],  \n",
        "         alpha=0.5, \n",
        "         label='{} = 0'.format(col),\n",
        "         log = True) \n",
        "  \n",
        "  plt.hist(X_CONT[Y[col] == 1]['Edad'],  \n",
        "         alpha=0.5, \n",
        "         label='{} = 1'.format(col),\n",
        "         log = True)\n",
        "  plt.legend(loc='upper right') \n",
        "  plt.title('{}'.format(col)) \n",
        "  plt.show()\n",
        "  \n",
        "\n"
      ],
      "metadata": {
        "colab": {
          "base_uri": "https://localhost:8080/",
          "height": 1000
        },
        "id": "zc2-96VHbmX5",
        "outputId": "82f10785-90f0-40b0-ab92-f423691cf8f4"
      },
      "execution_count": null,
      "outputs": [
        {
          "output_type": "display_data",
          "data": {
            "text/plain": [
              "<Figure size 432x288 with 1 Axes>"
            ],
            "image/png": "[encoded data removed]"
          },
          "metadata": {
            "needs_background": "light"
          }
        },
        {
          "output_type": "display_data",
          "data": {
            "text/plain": [
              "<Figure size 432x288 with 1 Axes>"
            ],
            "image/png": "[encoded data removed]"
          },
          "metadata": {
            "needs_background": "light"
          }
        },
        {
          "output_type": "display_data",
          "data": {
            "text/plain": [
              "<Figure size 432x288 with 1 Axes>"
            ],
            "image/png": "[encoded data removed]"
          },
          "metadata": {
            "needs_background": "light"
          }
        },
        {
          "output_type": "display_data",
          "data": {
            "text/plain": [
              "<Figure size 432x288 with 1 Axes>"
            ],
            "image/png": "[encoded data removed]"
          },
          "metadata": {
            "needs_background": "light"
          }
        },
        {
          "output_type": "display_data",
          "data": {
            "text/plain": [
              "<Figure size 432x288 with 1 Axes>"
            ],
            "image/png": "[encoded data removed]"
          },
          "metadata": {
            "needs_background": "light"
          }
        },
        {
          "output_type": "display_data",
          "data": {
            "text/plain": [
              "<Figure size 432x288 with 1 Axes>"
            ],
            "image/png": "[encoded data removed]"
          },
          "metadata": {
            "needs_background": "light"
          }
        },
        {
          "output_type": "display_data",
          "data": {
            "text/plain": [
              "<Figure size 432x288 with 1 Axes>"
            ],
            "image/png": "[encoded data removed]"
          },
          "metadata": {
            "needs_background": "light"
          }
        }
      ]
    },
    {
      "cell_type": "markdown",
      "source": [
        "#Dudas\n",
        "\n"
      ],
      "metadata": {
        "id": "toYjnV-AXLYP"
      }
    },
    {
      "cell_type": "code",
      "source": [
        "a = pd.melt(prueba3[variables_salida])\n",
        "b = []\n",
        "for i in range(len(variables_salida)):\n",
        "  b = np.append(b,X['Sexo'])\n",
        "a['Sexo'] = b\n",
        "a['index'] =range(len(a['Sexo']))\n"
      ],
      "metadata": {
        "id": "6Dk4gc7VJLcV"
      },
      "execution_count": null,
      "outputs": []
    }
  ]
}